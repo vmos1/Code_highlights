{
 "cells": [
  {
   "cell_type": "markdown",
   "id": "bb3e9a6f",
   "metadata": {},
   "source": [
    "# Notebook to view parsed data from sql database \n",
    "###Also view time-series variation in Monte-Carlo time\n",
    "\n",
    "Author: Venkitesh Ayyar (vayyar@bu.edu) \\\n",
    "Nov 19, 2023"
   ]
  },
  {
   "cell_type": "code",
   "execution_count": 1,
   "id": "f1b13dc3",
   "metadata": {},
   "outputs": [],
   "source": [
    "import numpy as np\n",
    "import matplotlib.pyplot as plt"
   ]
  },
  {
   "cell_type": "code",
   "execution_count": 2,
   "id": "7dc601f0",
   "metadata": {},
   "outputs": [],
   "source": [
    "import sqlite3\n",
    "\n",
    "import subprocess as sp\n",
    "import os \n",
    "import glob\n",
    "import pandas as pd\n",
    "import itertools\n",
    "import yaml\n",
    "import sys"
   ]
  },
  {
   "cell_type": "code",
   "execution_count": 3,
   "id": "dc8b7d9b",
   "metadata": {},
   "outputs": [],
   "source": [
    "import gvar as gv"
   ]
  },
  {
   "cell_type": "code",
   "execution_count": 4,
   "id": "21203279",
   "metadata": {},
   "outputs": [],
   "source": [
    "%matplotlib widget"
   ]
  },
  {
   "cell_type": "code",
   "execution_count": 5,
   "id": "76842bd0-f516-4aab-ae77-3bc5bd76e479",
   "metadata": {},
   "outputs": [],
   "source": [
    "from ipywidgets import *"
   ]
  },
  {
   "cell_type": "code",
   "execution_count": 6,
   "id": "5d2be697",
   "metadata": {},
   "outputs": [],
   "source": [
    "sys.path.append('modules')\n",
    "from modules_parse_hmc_Grid import *\n",
    "from modules_plot import *\n",
    "# from modules_measurement import *"
   ]
  },
  {
   "cell_type": "markdown",
   "id": "cdcd1fd8",
   "metadata": {},
   "source": [
    "## Read summary HMC data from table"
   ]
  },
  {
   "cell_type": "code",
   "execution_count": 7,
   "id": "634eceb7",
   "metadata": {},
   "outputs": [],
   "source": [
    "### Read sql database\n",
    "fname2='Stored_data/sql_dbase_files/summary_hmc_data.db'\n",
    "conn = sqlite3.connect(fname2)\n",
    "df_summary=pd.read_sql_query(\"SELECT * FROM summary\",conn)\n",
    "\n",
    "\n",
    "# # Convert strings to gvars for analysis\n",
    "gvar_key_list=['plaq', 'sus_plaq', 'kurt_plaq', 'polyakov', 'sus_poly', 'kurt_poly', 'traj_time']\n",
    "for key in gvar_key_list:        \n",
    "#     df_summary[key] = df_summary[key].apply(lambda x: gv.gvar(x))\n",
    "    df_summary[key] = df_summary[key].apply(lambda x: f_conv_strg_to_gvar(x))"
   ]
  },
  {
   "cell_type": "code",
   "execution_count": 8,
   "id": "0fe13fd2",
   "metadata": {
    "tags": []
   },
   "outputs": [
    {
     "data": {
      "text/html": [
       "<div>\n",
       "<style scoped>\n",
       "    .dataframe tbody tr th:only-of-type {\n",
       "        vertical-align: middle;\n",
       "    }\n",
       "\n",
       "    .dataframe tbody tr th {\n",
       "        vertical-align: top;\n",
       "    }\n",
       "\n",
       "    .dataframe thead th {\n",
       "        text-align: right;\n",
       "    }\n",
       "</style>\n",
       "<table border=\"1\" class=\"dataframe\">\n",
       "  <thead>\n",
       "    <tr style=\"text-align: right;\">\n",
       "      <th></th>\n",
       "      <th>beta</th>\n",
       "      <th>mf</th>\n",
       "      <th>Lx</th>\n",
       "      <th>Lt</th>\n",
       "      <th>run_label</th>\n",
       "      <th>plaq</th>\n",
       "      <th>sus_plaq</th>\n",
       "      <th>kurt_plaq</th>\n",
       "      <th>plaq_autocorr</th>\n",
       "      <th>polyakov</th>\n",
       "      <th>sus_poly</th>\n",
       "      <th>kurt_poly</th>\n",
       "      <th>poly_autocorr</th>\n",
       "      <th>traj_time</th>\n",
       "      <th>accept</th>\n",
       "      <th>num_conf</th>\n",
       "      <th>run_key</th>\n",
       "    </tr>\n",
       "  </thead>\n",
       "  <tbody>\n",
       "    <tr>\n",
       "      <th>0</th>\n",
       "      <td>10.0</td>\n",
       "      <td>0.1</td>\n",
       "      <td>16</td>\n",
       "      <td>8</td>\n",
       "      <td>cold-start</td>\n",
       "      <td>0.412963(77)</td>\n",
       "      <td>0.00208(28)</td>\n",
       "      <td>1.53(38)e-07</td>\n",
       "      <td>3</td>\n",
       "      <td>0.00389(20)</td>\n",
       "      <td>0.0138(17)</td>\n",
       "      <td>1.38(26)e-07</td>\n",
       "      <td>1</td>\n",
       "      <td>141.294(25)</td>\n",
       "      <td>80.864198</td>\n",
       "      <td>172</td>\n",
       "      <td>beta-10.0_mf-0.1_Lx-16_Lt-8_Ls-16_cold-start</td>\n",
       "    </tr>\n",
       "    <tr>\n",
       "      <th>1</th>\n",
       "      <td>10.0</td>\n",
       "      <td>0.1</td>\n",
       "      <td>16</td>\n",
       "      <td>8</td>\n",
       "      <td>hot-start</td>\n",
       "      <td>0.413407(61)</td>\n",
       "      <td>0.00130(16)</td>\n",
       "      <td>1.34(32)e-07</td>\n",
       "      <td>3</td>\n",
       "      <td>0.00356(18)</td>\n",
       "      <td>0.0116(28)</td>\n",
       "      <td>3.6(2.3)e-07</td>\n",
       "      <td>1</td>\n",
       "      <td>141.410(26)</td>\n",
       "      <td>78.125000</td>\n",
       "      <td>170</td>\n",
       "      <td>beta-10.0_mf-0.1_Lx-16_Lt-8_Ls-16_hot-start</td>\n",
       "    </tr>\n",
       "    <tr>\n",
       "      <th>2</th>\n",
       "      <td>10.2</td>\n",
       "      <td>0.1</td>\n",
       "      <td>16</td>\n",
       "      <td>8</td>\n",
       "      <td>cold-start</td>\n",
       "      <td>0.44180(10)</td>\n",
       "      <td>0.00350(40)</td>\n",
       "      <td>1.24(26)e-07</td>\n",
       "      <td>5</td>\n",
       "      <td>0.00362(18)</td>\n",
       "      <td>0.0118(16)</td>\n",
       "      <td>1.49(39)e-07</td>\n",
       "      <td>1</td>\n",
       "      <td>142.909(26)</td>\n",
       "      <td>84.472050</td>\n",
       "      <td>172</td>\n",
       "      <td>beta-10.2_mf-0.1_Lx-16_Lt-8_Ls-16_cold-start</td>\n",
       "    </tr>\n",
       "    <tr>\n",
       "      <th>3</th>\n",
       "      <td>10.2</td>\n",
       "      <td>0.1</td>\n",
       "      <td>16</td>\n",
       "      <td>8</td>\n",
       "      <td>hot-start</td>\n",
       "      <td>0.442028(92)</td>\n",
       "      <td>0.00290(36)</td>\n",
       "      <td>1.35(27)e-07</td>\n",
       "      <td>4</td>\n",
       "      <td>0.00336(18)</td>\n",
       "      <td>0.0109(14)</td>\n",
       "      <td>1.38(33)e-07</td>\n",
       "      <td>1</td>\n",
       "      <td>142.881(31)</td>\n",
       "      <td>88.607595</td>\n",
       "      <td>168</td>\n",
       "      <td>beta-10.2_mf-0.1_Lx-16_Lt-8_Ls-16_hot-start</td>\n",
       "    </tr>\n",
       "    <tr>\n",
       "      <th>4</th>\n",
       "      <td>10.4</td>\n",
       "      <td>0.1</td>\n",
       "      <td>16</td>\n",
       "      <td>8</td>\n",
       "      <td>cold-start</td>\n",
       "      <td>0.51540(10)</td>\n",
       "      <td>0.00390(59)</td>\n",
       "      <td>1.84(64)e-07</td>\n",
       "      <td>3</td>\n",
       "      <td>0.00365(18)</td>\n",
       "      <td>0.0126(17)</td>\n",
       "      <td>1.58(41)e-07</td>\n",
       "      <td>1</td>\n",
       "      <td>132.897(87)</td>\n",
       "      <td>92.571429</td>\n",
       "      <td>186</td>\n",
       "      <td>beta-10.4_mf-0.1_Lx-16_Lt-8_Ls-16_cold-start</td>\n",
       "    </tr>\n",
       "  </tbody>\n",
       "</table>\n",
       "</div>"
      ],
      "text/plain": [
       "   beta   mf  Lx  Lt   run_label          plaq     sus_plaq     kurt_plaq  \\\n",
       "0  10.0  0.1  16   8  cold-start  0.412963(77)  0.00208(28)  1.53(38)e-07   \n",
       "1  10.0  0.1  16   8   hot-start  0.413407(61)  0.00130(16)  1.34(32)e-07   \n",
       "2  10.2  0.1  16   8  cold-start   0.44180(10)  0.00350(40)  1.24(26)e-07   \n",
       "3  10.2  0.1  16   8   hot-start  0.442028(92)  0.00290(36)  1.35(27)e-07   \n",
       "4  10.4  0.1  16   8  cold-start   0.51540(10)  0.00390(59)  1.84(64)e-07   \n",
       "\n",
       "   plaq_autocorr     polyakov    sus_poly     kurt_poly  poly_autocorr  \\\n",
       "0              3  0.00389(20)  0.0138(17)  1.38(26)e-07              1   \n",
       "1              3  0.00356(18)  0.0116(28)  3.6(2.3)e-07              1   \n",
       "2              5  0.00362(18)  0.0118(16)  1.49(39)e-07              1   \n",
       "3              4  0.00336(18)  0.0109(14)  1.38(33)e-07              1   \n",
       "4              3  0.00365(18)  0.0126(17)  1.58(41)e-07              1   \n",
       "\n",
       "     traj_time     accept  num_conf  \\\n",
       "0  141.294(25)  80.864198       172   \n",
       "1  141.410(26)  78.125000       170   \n",
       "2  142.909(26)  84.472050       172   \n",
       "3  142.881(31)  88.607595       168   \n",
       "4  132.897(87)  92.571429       186   \n",
       "\n",
       "                                        run_key  \n",
       "0  beta-10.0_mf-0.1_Lx-16_Lt-8_Ls-16_cold-start  \n",
       "1   beta-10.0_mf-0.1_Lx-16_Lt-8_Ls-16_hot-start  \n",
       "2  beta-10.2_mf-0.1_Lx-16_Lt-8_Ls-16_cold-start  \n",
       "3   beta-10.2_mf-0.1_Lx-16_Lt-8_Ls-16_hot-start  \n",
       "4  beta-10.4_mf-0.1_Lx-16_Lt-8_Ls-16_cold-start  "
      ]
     },
     "execution_count": 8,
     "metadata": {},
     "output_type": "execute_result"
    }
   ],
   "source": [
    "df_summary.head()"
   ]
  },
  {
   "cell_type": "markdown",
   "id": "c4439d1a",
   "metadata": {},
   "source": [
    "## Summary analysis"
   ]
  },
  {
   "cell_type": "code",
   "execution_count": 19,
   "id": "07b00b16",
   "metadata": {
    "tags": []
   },
   "outputs": [
    {
     "data": {
      "text/html": [
       "<div>\n",
       "<style scoped>\n",
       "    .dataframe tbody tr th:only-of-type {\n",
       "        vertical-align: middle;\n",
       "    }\n",
       "\n",
       "    .dataframe tbody tr th {\n",
       "        vertical-align: top;\n",
       "    }\n",
       "\n",
       "    .dataframe thead th {\n",
       "        text-align: right;\n",
       "    }\n",
       "</style>\n",
       "<table border=\"1\" class=\"dataframe\">\n",
       "  <thead>\n",
       "    <tr style=\"text-align: right;\">\n",
       "      <th></th>\n",
       "      <th>beta</th>\n",
       "      <th>mf</th>\n",
       "      <th>Lx</th>\n",
       "      <th>Lt</th>\n",
       "      <th>run_label</th>\n",
       "      <th>plaq</th>\n",
       "      <th>sus_plaq</th>\n",
       "      <th>kurt_plaq</th>\n",
       "      <th>plaq_autocorr</th>\n",
       "      <th>polyakov</th>\n",
       "      <th>sus_poly</th>\n",
       "      <th>kurt_poly</th>\n",
       "      <th>poly_autocorr</th>\n",
       "      <th>traj_time</th>\n",
       "      <th>accept</th>\n",
       "      <th>num_conf</th>\n",
       "      <th>run_key</th>\n",
       "    </tr>\n",
       "  </thead>\n",
       "  <tbody>\n",
       "    <tr>\n",
       "      <th>0</th>\n",
       "      <td>10.0</td>\n",
       "      <td>0.1</td>\n",
       "      <td>16</td>\n",
       "      <td>8</td>\n",
       "      <td>cold-start</td>\n",
       "      <td>0.412963(77)</td>\n",
       "      <td>0.00208(28)</td>\n",
       "      <td>1.53(38)e-07</td>\n",
       "      <td>3</td>\n",
       "      <td>0.00389(20)</td>\n",
       "      <td>0.0138(17)</td>\n",
       "      <td>1.38(26)e-07</td>\n",
       "      <td>1</td>\n",
       "      <td>141.294(25)</td>\n",
       "      <td>80.864198</td>\n",
       "      <td>172</td>\n",
       "      <td>beta-10.0_mf-0.1_Lx-16_Lt-8_Ls-16_cold-start</td>\n",
       "    </tr>\n",
       "    <tr>\n",
       "      <th>1</th>\n",
       "      <td>10.0</td>\n",
       "      <td>0.1</td>\n",
       "      <td>16</td>\n",
       "      <td>8</td>\n",
       "      <td>hot-start</td>\n",
       "      <td>0.413407(61)</td>\n",
       "      <td>0.00130(16)</td>\n",
       "      <td>1.34(32)e-07</td>\n",
       "      <td>3</td>\n",
       "      <td>0.00356(18)</td>\n",
       "      <td>0.0116(28)</td>\n",
       "      <td>3.6(2.3)e-07</td>\n",
       "      <td>1</td>\n",
       "      <td>141.410(26)</td>\n",
       "      <td>78.125000</td>\n",
       "      <td>170</td>\n",
       "      <td>beta-10.0_mf-0.1_Lx-16_Lt-8_Ls-16_hot-start</td>\n",
       "    </tr>\n",
       "    <tr>\n",
       "      <th>2</th>\n",
       "      <td>10.2</td>\n",
       "      <td>0.1</td>\n",
       "      <td>16</td>\n",
       "      <td>8</td>\n",
       "      <td>cold-start</td>\n",
       "      <td>0.44180(10)</td>\n",
       "      <td>0.00350(40)</td>\n",
       "      <td>1.24(26)e-07</td>\n",
       "      <td>5</td>\n",
       "      <td>0.00362(18)</td>\n",
       "      <td>0.0118(16)</td>\n",
       "      <td>1.49(39)e-07</td>\n",
       "      <td>1</td>\n",
       "      <td>142.909(26)</td>\n",
       "      <td>84.472050</td>\n",
       "      <td>172</td>\n",
       "      <td>beta-10.2_mf-0.1_Lx-16_Lt-8_Ls-16_cold-start</td>\n",
       "    </tr>\n",
       "    <tr>\n",
       "      <th>3</th>\n",
       "      <td>10.2</td>\n",
       "      <td>0.1</td>\n",
       "      <td>16</td>\n",
       "      <td>8</td>\n",
       "      <td>hot-start</td>\n",
       "      <td>0.442028(92)</td>\n",
       "      <td>0.00290(36)</td>\n",
       "      <td>1.35(27)e-07</td>\n",
       "      <td>4</td>\n",
       "      <td>0.00336(18)</td>\n",
       "      <td>0.0109(14)</td>\n",
       "      <td>1.38(33)e-07</td>\n",
       "      <td>1</td>\n",
       "      <td>142.881(31)</td>\n",
       "      <td>88.607595</td>\n",
       "      <td>168</td>\n",
       "      <td>beta-10.2_mf-0.1_Lx-16_Lt-8_Ls-16_hot-start</td>\n",
       "    </tr>\n",
       "    <tr>\n",
       "      <th>4</th>\n",
       "      <td>10.4</td>\n",
       "      <td>0.1</td>\n",
       "      <td>16</td>\n",
       "      <td>8</td>\n",
       "      <td>cold-start</td>\n",
       "      <td>0.51540(10)</td>\n",
       "      <td>0.00390(59)</td>\n",
       "      <td>1.84(64)e-07</td>\n",
       "      <td>3</td>\n",
       "      <td>0.00365(18)</td>\n",
       "      <td>0.0126(17)</td>\n",
       "      <td>1.58(41)e-07</td>\n",
       "      <td>1</td>\n",
       "      <td>132.897(87)</td>\n",
       "      <td>92.571429</td>\n",
       "      <td>186</td>\n",
       "      <td>beta-10.4_mf-0.1_Lx-16_Lt-8_Ls-16_cold-start</td>\n",
       "    </tr>\n",
       "  </tbody>\n",
       "</table>\n",
       "</div>"
      ],
      "text/plain": [
       "   beta   mf  Lx  Lt   run_label          plaq     sus_plaq     kurt_plaq  \\\n",
       "0  10.0  0.1  16   8  cold-start  0.412963(77)  0.00208(28)  1.53(38)e-07   \n",
       "1  10.0  0.1  16   8   hot-start  0.413407(61)  0.00130(16)  1.34(32)e-07   \n",
       "2  10.2  0.1  16   8  cold-start   0.44180(10)  0.00350(40)  1.24(26)e-07   \n",
       "3  10.2  0.1  16   8   hot-start  0.442028(92)  0.00290(36)  1.35(27)e-07   \n",
       "4  10.4  0.1  16   8  cold-start   0.51540(10)  0.00390(59)  1.84(64)e-07   \n",
       "\n",
       "   plaq_autocorr     polyakov    sus_poly     kurt_poly  poly_autocorr  \\\n",
       "0              3  0.00389(20)  0.0138(17)  1.38(26)e-07              1   \n",
       "1              3  0.00356(18)  0.0116(28)  3.6(2.3)e-07              1   \n",
       "2              5  0.00362(18)  0.0118(16)  1.49(39)e-07              1   \n",
       "3              4  0.00336(18)  0.0109(14)  1.38(33)e-07              1   \n",
       "4              3  0.00365(18)  0.0126(17)  1.58(41)e-07              1   \n",
       "\n",
       "     traj_time     accept  num_conf  \\\n",
       "0  141.294(25)  80.864198       172   \n",
       "1  141.410(26)  78.125000       170   \n",
       "2  142.909(26)  84.472050       172   \n",
       "3  142.881(31)  88.607595       168   \n",
       "4  132.897(87)  92.571429       186   \n",
       "\n",
       "                                        run_key  \n",
       "0  beta-10.0_mf-0.1_Lx-16_Lt-8_Ls-16_cold-start  \n",
       "1   beta-10.0_mf-0.1_Lx-16_Lt-8_Ls-16_hot-start  \n",
       "2  beta-10.2_mf-0.1_Lx-16_Lt-8_Ls-16_cold-start  \n",
       "3   beta-10.2_mf-0.1_Lx-16_Lt-8_Ls-16_hot-start  \n",
       "4  beta-10.4_mf-0.1_Lx-16_Lt-8_Ls-16_cold-start  "
      ]
     },
     "execution_count": 19,
     "metadata": {},
     "output_type": "execute_result"
    }
   ],
   "source": [
    "df_sliced=df_summary.copy()"
   ]
  },
  {
   "cell_type": "markdown",
   "id": "ad04797b-49a2-4157-abca-22b92620b648",
   "metadata": {},
   "source": [
    "### Interactive plots full data"
   ]
  },
  {
   "cell_type": "code",
   "execution_count": 121,
   "id": "0f6a03cf-cc00-4262-892c-fa2d15c31d0a",
   "metadata": {},
   "outputs": [
    {
     "data": {
      "application/vnd.jupyter.widget-view+json": {
       "model_id": "ccc6c4e5097b47508e13c2c077538e14",
       "version_major": 2,
       "version_minor": 0
      },
      "text/plain": [
       "Output()"
      ]
     },
     "metadata": {},
     "output_type": "display_data"
    },
    {
     "data": {
      "application/vnd.jupyter.widget-view+json": {
       "model_id": "4d49e2357a514064a26b454345a9ccea",
       "version_major": 2,
       "version_minor": 0
      },
      "text/plain": [
       "HBox(children=(VBox(children=(SelectMultiple(description='Lx', index=(0,), options=(16,), value=(16,)), Select…"
      ]
     },
     "metadata": {},
     "output_type": "display_data"
    }
   ],
   "source": [
    "def f_plot_widgets(df_input,lx_list,lt_list,runlabel_list,mf_list,beta_list,obs,ylabel):\n",
    "    '''\n",
    "    Slice required rows using wigets and plot\n",
    "    '''\n",
    "    \n",
    "    assert obs in df_sliced.columns.values\n",
    "        \n",
    "    df=df_input[(df_sliced.Lx.isin(lx_list))\\\n",
    "              & (df_sliced.Lt.isin(lt_list))\\\n",
    "              & (df_sliced.beta.isin(beta_list))\\\n",
    "              & (df_sliced.mf.isin(mf_list))\\\n",
    "              & (df_sliced.run_label.isin(runlabel_list))\\\n",
    "             ].reset_index(drop=True)\n",
    "\n",
    "    f_plot_vary_beta(df,obs,ylabel)\n",
    "    \n",
    "# f_plot_widgets(df_sliced,lx_list[:],lt_list[:],runlabel_list[:],mf_list[:],beta_list[:],'plaq','y')\n",
    "\n",
    "lx_list  =np.unique(df_sliced.Lx.values)\n",
    "lt_list  =np.unique(df_sliced.Lt.values)\n",
    "runlabel_list=np.unique(df_sliced.run_label.values)\n",
    "mf_list=np.unique(df_sliced.mf.values)\n",
    "beta_list=np.unique(df_sliced.beta.values)\n",
    "output_columns=['plaq','sus_plaq','kurt_plaq','plaq_autocorr',\\\n",
    "               'polyakov','sus_poly','kurt_poly','poly_autocorr',\\\n",
    "               'traj_time','accept','num_conf']\n",
    "\n",
    "lxs=widgets.SelectMultiple(options=lx_list,value=tuple(lx_list[:1]),description='Lx')\n",
    "lts=widgets.SelectMultiple(options=lt_list,value=tuple(lt_list[:1]),description='Lt')\n",
    "runlabels=widgets.SelectMultiple(options=runlabel_list,value=tuple(runlabel_list[:1]), description='run-label')\n",
    "mfs=widgets.SelectMultiple(options=mf_list,value=tuple(mf_list[:1]),description='m_f')\n",
    "betas=widgets.SelectMultiple(options=beta_list,value=tuple(beta_list[:1]), description='beta')\n",
    "obs_w=widgets.Select(options=output_columns,description='observable')\n",
    "\n",
    "\n",
    "v1=VBox([lxs,lts])\n",
    "v2=VBox([runlabels,mfs])\n",
    "v3=VBox([betas,obs_w])\n",
    "\n",
    "ui=HBox(children=[v1,v2,v3])\n",
    "\n",
    "out=interactive_output(f_plot_widgets, {'df_input':fixed(df_sliced),\n",
    "            'lx_list': lxs,'lt_list':lts,'runlabel_list':runlabels,'mf_list':mfs,\\\n",
    "             'beta_list':betas, 'obs':obs_w,'ylabel':fixed('y')} )\n",
    "\n",
    "display(out,ui)\n"
   ]
  },
  {
   "cell_type": "code",
   "execution_count": null,
   "id": "141459a8-5dce-4e22-9c8e-21c6e6d7d49d",
   "metadata": {},
   "outputs": [],
   "source": [
    "# df_sliced=df_summary[((df_summary.Lx==16)&(df_summary.Lt==8)&(df_summary.mf==0.1))|((df_summary.Lt==12)&(df_summary.mf==0.067))].copy()\n",
    "# df_sliced=df_summary[((df_summary.Lx==24)&(df_summary.Lt==12)&(df_summary.mf==0.1))].copy()\n",
    "# df_sliced=df_summary[((df_summary.Lx==16)&(df_summary.Lt==8)&(df_summary.mf==0.1))].copy()\n",
    "\n",
    "df_sliced.head()"
   ]
  },
  {
   "cell_type": "markdown",
   "id": "1975bd7b",
   "metadata": {},
   "source": [
    "#### Number of configurations"
   ]
  },
  {
   "cell_type": "code",
   "execution_count": 10,
   "id": "d310eb0f",
   "metadata": {
    "tags": []
   },
   "outputs": [
    {
     "data": {
      "text/html": [
       "<div>\n",
       "<style scoped>\n",
       "    .dataframe tbody tr th:only-of-type {\n",
       "        vertical-align: middle;\n",
       "    }\n",
       "\n",
       "    .dataframe tbody tr th {\n",
       "        vertical-align: top;\n",
       "    }\n",
       "\n",
       "    .dataframe thead th {\n",
       "        text-align: right;\n",
       "    }\n",
       "</style>\n",
       "<table border=\"1\" class=\"dataframe\">\n",
       "  <thead>\n",
       "    <tr style=\"text-align: right;\">\n",
       "      <th></th>\n",
       "      <th>Lx</th>\n",
       "      <th>Lt</th>\n",
       "      <th>run_label</th>\n",
       "      <th>num_conf</th>\n",
       "    </tr>\n",
       "    <tr>\n",
       "      <th>beta</th>\n",
       "      <th></th>\n",
       "      <th></th>\n",
       "      <th></th>\n",
       "      <th></th>\n",
       "    </tr>\n",
       "  </thead>\n",
       "  <tbody>\n",
       "    <tr>\n",
       "      <th>10.6</th>\n",
       "      <td>16</td>\n",
       "      <td>8</td>\n",
       "      <td>cold-start</td>\n",
       "      <td>1136</td>\n",
       "    </tr>\n",
       "    <tr>\n",
       "      <th>10.6</th>\n",
       "      <td>16</td>\n",
       "      <td>8</td>\n",
       "      <td>hot-start</td>\n",
       "      <td>970</td>\n",
       "    </tr>\n",
       "    <tr>\n",
       "      <th>10.8</th>\n",
       "      <td>16</td>\n",
       "      <td>8</td>\n",
       "      <td>cold-start</td>\n",
       "      <td>2396</td>\n",
       "    </tr>\n",
       "    <tr>\n",
       "      <th>10.8</th>\n",
       "      <td>16</td>\n",
       "      <td>8</td>\n",
       "      <td>hot-start</td>\n",
       "      <td>2586</td>\n",
       "    </tr>\n",
       "    <tr>\n",
       "      <th>11.0</th>\n",
       "      <td>16</td>\n",
       "      <td>8</td>\n",
       "      <td>cold-start</td>\n",
       "      <td>1564</td>\n",
       "    </tr>\n",
       "    <tr>\n",
       "      <th>11.0</th>\n",
       "      <td>16</td>\n",
       "      <td>8</td>\n",
       "      <td>hot-start</td>\n",
       "      <td>2140</td>\n",
       "    </tr>\n",
       "    <tr>\n",
       "      <th>11.2</th>\n",
       "      <td>16</td>\n",
       "      <td>8</td>\n",
       "      <td>hot-start</td>\n",
       "      <td>1654</td>\n",
       "    </tr>\n",
       "    <tr>\n",
       "      <th>11.4</th>\n",
       "      <td>16</td>\n",
       "      <td>8</td>\n",
       "      <td>hot-start</td>\n",
       "      <td>1834</td>\n",
       "    </tr>\n",
       "    <tr>\n",
       "      <th>11.6</th>\n",
       "      <td>16</td>\n",
       "      <td>8</td>\n",
       "      <td>hot-start</td>\n",
       "      <td>1642</td>\n",
       "    </tr>\n",
       "    <tr>\n",
       "      <th>11.7</th>\n",
       "      <td>16</td>\n",
       "      <td>8</td>\n",
       "      <td>cold-start</td>\n",
       "      <td>948</td>\n",
       "    </tr>\n",
       "    <tr>\n",
       "      <th>11.8</th>\n",
       "      <td>16</td>\n",
       "      <td>8</td>\n",
       "      <td>cold-start</td>\n",
       "      <td>1022</td>\n",
       "    </tr>\n",
       "    <tr>\n",
       "      <th>11.8</th>\n",
       "      <td>16</td>\n",
       "      <td>8</td>\n",
       "      <td>hot-start</td>\n",
       "      <td>1680</td>\n",
       "    </tr>\n",
       "    <tr>\n",
       "      <th>11.9</th>\n",
       "      <td>16</td>\n",
       "      <td>8</td>\n",
       "      <td>cold-start</td>\n",
       "      <td>1568</td>\n",
       "    </tr>\n",
       "    <tr>\n",
       "      <th>12.0</th>\n",
       "      <td>16</td>\n",
       "      <td>8</td>\n",
       "      <td>cold-start</td>\n",
       "      <td>1520</td>\n",
       "    </tr>\n",
       "  </tbody>\n",
       "</table>\n",
       "</div>"
      ],
      "text/plain": [
       "      Lx  Lt   run_label  num_conf\n",
       "beta                              \n",
       "10.6  16   8  cold-start      1136\n",
       "10.6  16   8   hot-start       970\n",
       "10.8  16   8  cold-start      2396\n",
       "10.8  16   8   hot-start      2586\n",
       "11.0  16   8  cold-start      1564\n",
       "11.0  16   8   hot-start      2140\n",
       "11.2  16   8   hot-start      1654\n",
       "11.4  16   8   hot-start      1834\n",
       "11.6  16   8   hot-start      1642\n",
       "11.7  16   8  cold-start       948\n",
       "11.8  16   8  cold-start      1022\n",
       "11.8  16   8   hot-start      1680\n",
       "11.9  16   8  cold-start      1568\n",
       "12.0  16   8  cold-start      1520"
      ]
     },
     "metadata": {},
     "output_type": "display_data"
    },
    {
     "data": {
      "text/plain": [
       "Text(0, 0.5, 'MDTUs')"
      ]
     },
     "execution_count": 10,
     "metadata": {},
     "output_type": "execute_result"
    },
    {
     "data": {
      "application/vnd.jupyter.widget-view+json": {
       "model_id": "1d1a481d12dc4f6798ca33dafbc20908",
       "version_major": 2,
       "version_minor": 0
      },
      "image/png": "[encoded data removed]",
      "text/plain": [
       "Canvas(toolbar=Toolbar(toolitems=[('Home', 'Reset original view', 'home', 'home'), ('Back', 'Back to previous …"
      ]
     },
     "metadata": {},
     "output_type": "display_data"
    }
   ],
   "source": [
    "## Plot number of configs\n",
    "df=df_sliced[(df_sliced.beta>10.5)&(df_sliced.beta<17.1)\\\n",
    "             &(df_sliced.Lx==16)&(df_sliced.Lt==8)&\\\n",
    "             (df_sliced.mf==0.1)]\\\n",
    "[['Lx','Lt','beta','run_label','num_conf']]\n",
    "df.set_index('beta',inplace=True)\n",
    "\n",
    "display(df)\n",
    "\n",
    "width=0.4 \n",
    "\n",
    "plt.figure()\n",
    "\n",
    "label='hot-start'\n",
    "df[df.run_label==label].num_conf.plot(kind='bar', width=width, color='red', position=0, label=label)\n",
    "\n",
    "label='cold-start'\n",
    "(df[df.run_label==label].num_conf).plot(kind='bar', width=width, color='blue', position=1, label=label)\n",
    "\n",
    "plt.legend(loc='best')\n",
    "\n",
    "plt.ylabel(\"MDTUs\")\n",
    "# plt.savefig('fig_output/num_confs_hot_cold.pdf')\n"
   ]
  },
  {
   "cell_type": "code",
   "execution_count": 11,
   "id": "c5992100",
   "metadata": {},
   "outputs": [
    {
     "data": {
      "application/vnd.jupyter.widget-view+json": {
       "model_id": "524ead07a4a74b9680a7c6b32cd55ddb",
       "version_major": 2,
       "version_minor": 0
      },
      "image/png": "[encoded data removed]",
      "text/plain": [
       "Canvas(toolbar=Toolbar(toolitems=[('Home', 'Reset original view', 'home', 'home'), ('Back', 'Back to previous …"
      ]
     },
     "metadata": {},
     "output_type": "display_data"
    }
   ],
   "source": [
    "df=df_sliced[(((df_sliced.Lx==16)&(df_sliced.Lt==8))|((df_sliced.Lx==24)&(df_sliced.Lt==12)))\\\n",
    "             &(df_sliced.run_label=='hot-start')\\\n",
    "             &(df_sliced.mf==0.1)].reset_index(drop=True)\n",
    "\n",
    "\n",
    "f_plot_vary_beta(df,'polyakov','Polyakov loop')\n",
    "# f_plot_vary_beta(df,'plaq','Plaquette')\n",
    "# f_plot_vary_beta(df,'sus_plaq','$\\chi_{Plaquette}$')\n",
    "# f_plot_vary_beta(df,'sus_poly','$\\chi_{Polyakov}$')\n",
    "# f_plot_vary_beta(df,'accept','Acceptance')\n",
    "\n",
    "# f_plot_vary_beta(df,'traj_time','Traj time')"
   ]
  },
  {
   "cell_type": "markdown",
   "id": "7d09efd6-3b53-4b7e-b1dc-aab9f57cb782",
   "metadata": {},
   "source": [
    "### Interactive plots specific runs"
   ]
  },
  {
   "cell_type": "code",
   "execution_count": 13,
   "id": "2b5a010e-2bf2-4009-88a8-f95574573c70",
   "metadata": {},
   "outputs": [
    {
     "data": {
      "application/vnd.jupyter.widget-view+json": {
       "model_id": "dd1486f5006345708f9ecfba25209cdf",
       "version_major": 2,
       "version_minor": 0
      },
      "text/plain": [
       "interactive(children=(Dropdown(description='obs', options=('plaq', 'sus_plaq', 'kurt_plaq', 'plaq_autocorr', '…"
      ]
     },
     "metadata": {},
     "output_type": "display_data"
    },
    {
     "data": {
      "text/plain": [
       "<function modules_plot.f_plot_vary_beta(df, obs, ylabel='y', op_fname=0)>"
      ]
     },
     "execution_count": 13,
     "metadata": {},
     "output_type": "execute_result"
    }
   ],
   "source": [
    "output_columns=['plaq','sus_plaq','kurt_plaq','plaq_autocorr',\\\n",
    "               'polyakov','sus_poly','kurt_poly','poly_autocorr',\\\n",
    "               'traj_time','accept','num_conf']\n",
    "\n",
    "interact_manual(f_plot_vary_beta,df=fixed(df),obs=output_columns,ylabel=fixed('y'),op_fname=fixed(''))"
   ]
  },
  {
   "cell_type": "markdown",
   "id": "09c97d7d",
   "metadata": {},
   "source": [
    "## HMC time series behavior"
   ]
  },
  {
   "cell_type": "code",
   "execution_count": 14,
   "id": "b816c60b",
   "metadata": {},
   "outputs": [
    {
     "name": "stdout",
     "output_type": "stream",
     "text": [
      "SELECT * FROM test     WHERE Lx=16     AND Lt=8     AND mf=0.1     AND beta IN (10.4,10.6,10.8)    \n"
     ]
    }
   ],
   "source": [
    "def f_get_hmc_data(dict1,fname1):\n",
    "    '''\n",
    "    Given a dictionary, extract the time series for just that set of couplings\n",
    "    '''\n",
    "\n",
    "    sql_query='SELECT * FROM test \\\n",
    "    WHERE Lx={Lx} \\\n",
    "    AND Lt={Lt} \\\n",
    "    AND mf={mf} \\\n",
    "    AND beta IN {beta}\\\n",
    "    '.format(**dict1)\n",
    "    \n",
    "    print(sql_query)\n",
    "    \n",
    "    conn = sqlite3.connect(fname1)\n",
    "    df_read=pd.read_sql_query(sql_query,conn)\n",
    "    df_read['Polyakov']=df_read['Polyakov'].astype(np.complex128)\n",
    "    conn.close()\n",
    "    \n",
    "    return df_read\n",
    "\n",
    "\n",
    "\n",
    "fname1='Stored_data/sql_dbase_files/parsed_hmc.db'\n",
    "dict1={'Lx':'16', 'Lt':'8','mf':'0.1',  'beta':'(10.4,10.6,10.8)' }\n",
    "df_hmc=f_get_hmc_data(dict1,fname1)"
   ]
  },
  {
   "cell_type": "code",
   "execution_count": 15,
   "id": "7f2f9fa4",
   "metadata": {},
   "outputs": [
    {
     "data": {
      "application/vnd.jupyter.widget-view+json": {
       "model_id": "3ab389af032e4e75a283117b0140d7ec",
       "version_major": 2,
       "version_minor": 0
      },
      "image/png": "[encoded data removed]",
      "text/plain": [
       "Canvas(toolbar=Toolbar(toolitems=[('Home', 'Reset original view', 'home', 'home'), ('Back', 'Back to previous …"
      ]
     },
     "metadata": {},
     "output_type": "display_data"
    }
   ],
   "source": [
    "# f_plot_hmc_runs(df_hmc,'Plaquette')\n",
    "# # plt.savefig('fig_output/Plaq_details.pdf')\n",
    "f_plot_hmc_runs(df_hmc,'Polyakov')\n",
    "# f_plot_hmc_runs(df_hmc,'Traj_time')\n",
    "# f_plot_hmc_runs(df_hmc,'Accept')\n"
   ]
  },
  {
   "cell_type": "markdown",
   "id": "ab33e043-4dc2-4b1d-99d7-9ad4160a048b",
   "metadata": {},
   "source": [
    "### Interactive time-series plots"
   ]
  },
  {
   "cell_type": "code",
   "execution_count": 16,
   "id": "3217c487-a5db-4ae3-8005-3f4c4b976be4",
   "metadata": {},
   "outputs": [
    {
     "data": {
      "application/vnd.jupyter.widget-view+json": {
       "model_id": "548c690dc596459485e38e1331b09445",
       "version_major": 2,
       "version_minor": 0
      },
      "text/plain": [
       "interactive(children=(Dropdown(description='column', options=('Plaquette', 'Polyakov', 'Traj_time', 'Accept'),…"
      ]
     },
     "metadata": {},
     "output_type": "display_data"
    },
    {
     "data": {
      "text/plain": [
       "<function modules_plot.f_plot_hmc_runs(df_input, column)>"
      ]
     },
     "execution_count": 16,
     "metadata": {},
     "output_type": "execute_result"
    }
   ],
   "source": [
    "\n",
    "interact_manual(f_plot_hmc_runs,df_input=fixed(df_hmc),\\\n",
    "                column=['Plaquette','Polyakov','Traj_time','Accept'])"
   ]
  },
  {
   "cell_type": "markdown",
   "id": "0b839836-7d14-4e30-9668-2b9eb6f111ec",
   "metadata": {},
   "source": [
    "### Polyakov loop details"
   ]
  },
  {
   "cell_type": "code",
   "execution_count": 17,
   "id": "7cf41076-de46-4817-9387-449bfc2a3c16",
   "metadata": {},
   "outputs": [
    {
     "name": "stdout",
     "output_type": "stream",
     "text": [
      "SELECT * FROM test     WHERE Lx=16     AND Lt=8     AND mf=0.1     AND beta IN (10.4, 10.6, 11.8)    \n"
     ]
    },
    {
     "data": {
      "application/vnd.jupyter.widget-view+json": {
       "model_id": "e695c54c1ee9429c977c9144be21a5d7",
       "version_major": 2,
       "version_minor": 0
      },
      "image/png": "[encoded data removed]",
      "text/plain": [
       "Canvas(toolbar=Toolbar(toolitems=[('Home', 'Reset original view', 'home', 'home'), ('Back', 'Back to previous …"
      ]
     },
     "metadata": {},
     "output_type": "display_data"
    }
   ],
   "source": [
    "\n",
    "dict1={'Lx':'16', 'Lt':'8','mf':'0.1',  'beta':'(10.4, 10.6, 11.8)' }\n",
    "df_hmc=f_get_hmc_data(dict1,fname1)\n",
    "\n",
    "# df_hmc=df_hmc[df_hmc.run_label=='cold-start']\n",
    "\n",
    "# f_ploop_histogram(df_hmc,100)\n",
    "f_scatter_plot(df_hmc,50)"
   ]
  },
  {
   "cell_type": "code",
   "execution_count": 119,
   "id": "f75b117c-83a4-45f0-a0e6-0bec4afaa37d",
   "metadata": {},
   "outputs": [
    {
     "data": {
      "application/vnd.jupyter.widget-view+json": {
       "model_id": "e39db6b0a086473ab3cb454d34279d8d",
       "version_major": 2,
       "version_minor": 0
      },
      "text/plain": [
       "IntSlider(value=5, max=10)"
      ]
     },
     "metadata": {},
     "output_type": "display_data"
    },
    {
     "data": {
      "application/vnd.jupyter.widget-view+json": {
       "model_id": "99a20acefc4f4774a7e609b1e3c004bd",
       "version_major": 2,
       "version_minor": 0
      },
      "text/plain": [
       "Output()"
      ]
     },
     "metadata": {},
     "output_type": "display_data"
    },
    {
     "data": {
      "application/vnd.jupyter.widget-view+json": {
       "model_id": "9cff1b53ee884a689b1fda5f70aafa70",
       "version_major": 2,
       "version_minor": 0
      },
      "text/plain": [
       "Output()"
      ]
     },
     "metadata": {},
     "output_type": "display_data"
    }
   ],
   "source": [
    "a = widgets.IntSlider(value=5, min=0, max=10)\n",
    "\n",
    "def f1(a):\n",
    "    display(a)\n",
    "    \n",
    "def f2(a):\n",
    "    display(a * 2)\n",
    "    \n",
    "out1 = widgets.interactive_output(f1, {'a': a})\n",
    "out2 = widgets.interactive_output(f2, {'a': a})\n",
    "\n",
    "display(a)\n",
    "display(out1)\n",
    "display(out2)"
   ]
  },
  {
   "cell_type": "code",
   "execution_count": null,
   "id": "4d20f6d0-f8a2-41d9-a9cc-9abf4474e506",
   "metadata": {},
   "outputs": [],
   "source": []
  }
 ],
 "metadata": {
  "kernelspec": {
   "display_name": "Python 3",
   "language": "python",
   "name": "python3"
  },
  "language_info": {
   "codemirror_mode": {
    "name": "ipython",
    "version": 3
   },
   "file_extension": ".py",
   "mimetype": "text/x-python",
   "name": "python",
   "nbconvert_exporter": "python",
   "pygments_lexer": "ipython3",
   "version": "3.8.8"
  }
 },
 "nbformat": 4,
 "nbformat_minor": 5
}

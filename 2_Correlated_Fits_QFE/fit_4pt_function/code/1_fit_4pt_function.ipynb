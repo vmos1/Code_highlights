{
 "cells": [
  {
   "cell_type": "markdown",
   "id": "a276f86f-0778-4b51-ae48-3037dff8f35f",
   "metadata": {},
   "source": [
    "# Interactively fit single correlator\n",
    "\n",
    "Interactively fit a single 4pt function for fixed s and l\n",
    "\n",
    "Nov 28, 2022"
   ]
  },
  {
   "cell_type": "code",
   "execution_count": 1,
   "id": "9a7c2516-5d5d-40fb-a984-a683d9c802b1",
   "metadata": {},
   "outputs": [],
   "source": [
    "import numpy as np\n",
    "import pandas as pd\n",
    "import matplotlib.pyplot as plt\n",
    "\n",
    "from ipywidgets import *\n",
    "import glob \n",
    "import sys\n",
    "import pickle \n",
    "import scipy.special as sc\n",
    "# from scipy.special import logsumexp as sc.logsumexp\n",
    "\n",
    "## Import fitting modules\n",
    "import gvar as gv\n",
    "import lsqfit\n"
   ]
  },
  {
   "cell_type": "code",
   "execution_count": 2,
   "id": "0770fecf-1e55-4632-8160-70ac5cfeb524",
   "metadata": {},
   "outputs": [],
   "source": [
    "%matplotlib widget"
   ]
  },
  {
   "cell_type": "markdown",
   "id": "a3775567-8e19-4745-bffd-e28fdac33e15",
   "metadata": {},
   "source": [
    "## Modules"
   ]
  },
  {
   "cell_type": "code",
   "execution_count": 3,
   "id": "aa64c3a5-55be-4da7-94e1-8be1ae36edb8",
   "metadata": {},
   "outputs": [],
   "source": [
    "def f_plot_meff(t,y,max=200):\n",
    "    '''\n",
    "    t -> t values of correlator, y -> correlator gvar: val(err)\n",
    "    max = max number of correlators to plot\n",
    "    '''\n",
    "    \n",
    "    c=dict_global[str(s)]['c'] # Warning global dict_global and string s needed\n",
    "\n",
    "    lst=[]\n",
    "\n",
    "    n=(y[2:]+y[:-2])/(2.0*y[1:-1])\n",
    "    m=np.arccosh(n) /c\n",
    "#     print(m.shape)\n",
    "    lst.append(np.nan)\n",
    "    lst.extend(m)\n",
    "    lst.append(np.nan)\n",
    "    \n",
    "    \n",
    "    df1=pd.DataFrame(columns=['t','coeff','meff'])\n",
    "    df1['t']=t\n",
    "    df1['coeff']=y\n",
    "    df1['meff']=np.array(lst)\n",
    "\n",
    "    ## Plot effective mass\n",
    "    plt.figure()\n",
    "    df1=df1.dropna().head(max)\n",
    "    val=df1.meff.values\n",
    "    x,y,yerr=df1.t.values,[i.mean for i in val],[i.sdev for i in val]\n",
    "    plt.errorbar(x,y,yerr,marker='o',linestyle='')\n",
    "    \n",
    "    plt.xlabel('t')\n",
    "    plt.ylabel('Effective mass')\n",
    "    "
   ]
  },
  {
   "cell_type": "code",
   "execution_count": 4,
   "id": "8c448f48-0d22-4e3f-b338-f46afee3edde",
   "metadata": {},
   "outputs": [],
   "source": [
    "class corr:\n",
    "    ''' Class to store correlators C(t) for specific l and s'''\n",
    "    def __init__(self,df,l,c,s,Lt):\n",
    "        self.df=df\n",
    "        self.c=c\n",
    "        self.s=s\n",
    "        self.Lt=Lt\n",
    "        self.l=l\n",
    "        \n",
    "        self.x_full=None\n",
    "        self.y_full=None\n",
    "        \n",
    "        self.fit=None\n",
    "        \n",
    "    def f_perform_fit_exp(self,f_make_pars,func,fit_range,plt_range,num_exp=3,verbose=0,use_prior=False,plot=True):\n",
    "              \n",
    "        ## Define x and y for object for full plot range (Used only for fit)\n",
    "        self.x_full={'t':self.df.t.values[min(plt_range):max(plt_range)+1],\n",
    "                     'nterms':num_exp,'c':self.c,'Lt':self.Lt}\n",
    "        self.y_full=self.df.coeff.values[min(plt_range):max(plt_range)+1]\n",
    "        \n",
    "        x=self.x_full.copy(); x['t']=x['t'][min(fit_range):max(fit_range)+1]\n",
    "        y=self.y_full[min(fit_range):max(fit_range)+1]\n",
    "        \n",
    "        ### Create parameters dictionary: if prior gives gvars\n",
    "        p0=f_make_pars(num_exp,self.l,use_prior)\n",
    "        \n",
    "        if use_prior:\n",
    "            self.fit = lsqfit.nonlinear_fit(data=(x,y), prior=p0, fcn=func)\n",
    "        else: \n",
    "            self.fit = lsqfit.nonlinear_fit(data=(x,y), p0=p0, fcn=func)\n",
    "\n",
    "        ### Print fit details before plot\n",
    "        if verbose==2: print(self.fit.format(maxline=True))\n",
    "        elif verbose: print(self.fit.format(maxline=verbose))\n",
    "        \n",
    "        if plot: self.f_fit_plot(min(plt_range),max(plt_range),error_band=True,semilog=True)\n",
    "        \n",
    "        # Print description at the end\n",
    "        for k in self.fit.p.keys():\n",
    "            if not use_prior:\n",
    "                print(k,'\\tInit',self.fit.p0[k],'\\t---Final',self.fit.p[k])\n",
    "            else : \n",
    "                print(k,'\\tInit',self.fit.prior[k],'\\t---Final',self.fit.p[k])    \n",
    "\n",
    "        print(\"chi-sqr\",self.fit.chi2/self.fit.dof)\n",
    "\n",
    "        \n",
    "    def f_fit_plot(self,start=0,end=None,error_band=True,semilog=True):\n",
    "        '''\n",
    "        Function for plotting data with the fit lines and error bands.\n",
    "        For correlators, using a semi-log plot.\n",
    "        full_data=True, plots the entire data and the best-fit in the fit region\n",
    "        '''\n",
    "        \n",
    "        ## Create y_predictions for fit function\n",
    "        x=self.x_full; y=self.y_full\n",
    "        curve_t={}\n",
    "        curve_x=self.x_full.copy()\n",
    "        curve_t['t']=np.linspace(min(x['t']),max(x['t']),500)\n",
    "        curve_x['t']=curve_t['t']; ## Modify curve_x['ts'] to the range required\n",
    "        \n",
    "        curve_y=self.fit.fcn(curve_x,self.fit.p)\n",
    "        obs_fit=gv.mean(curve_y)\n",
    "        err_fit=gv.sdev(curve_y)\n",
    "        sigma=2.0 # Width for band\n",
    "\n",
    "        #### Plots\n",
    "        fig=plt.figure()\n",
    "          \n",
    "        # Plot all data points\n",
    "        x=self.x_full; y=self.y_full\n",
    "        plt.errorbar(x['t'],y=gv.mean(y),yerr=gv.sdev(y),linestyle='None',color='black',marker='*',markersize=4)\n",
    "\n",
    "        # Plot the best fit line\n",
    "        plt.plot(curve_t['t'],obs_fit,color='blue')\n",
    "\n",
    "        if error_band: # Plot an error band around the best fit line\n",
    "            plt.fill_between(curve_t['t'],obs_fit-sigma*err_fit,obs_fit+sigma*err_fit,color='yellow')\n",
    "\n",
    "        ## Plot data points used in fit with different color\n",
    "        x=self.fit.x; y=self.fit.y\n",
    "        plt.errorbar(x['t'],y=gv.mean(y),yerr=gv.sdev(y),linestyle='None',color='red',marker='H',markersize=5)    \n",
    "        \n",
    "        if semilog: plt.yscale('log')\n",
    "        plt.ylabel('C(t)')\n",
    "        plt.xlabel('t')\n",
    "        plt.title(\"Plot\")\n",
    "        plt.show()\n",
    "        "
   ]
  },
  {
   "cell_type": "markdown",
   "id": "60fdc613-d7ba-435c-a08d-2dba26a2759c",
   "metadata": {},
   "source": [
    "### Fit functions"
   ]
  },
  {
   "cell_type": "code",
   "execution_count": 5,
   "id": "4a3e9b12-88d0-4296-96b9-284cba4a79fd",
   "metadata": {
    "tags": []
   },
   "outputs": [],
   "source": [
    "def f_multi_exp(x,p):\n",
    "    \n",
    "    t=x['t']\n",
    "    num_exp=x['nterms']\n",
    "    c=x['c']\n",
    "    Lt=x['Lt']\n",
    "    \n",
    "#     g=np.sqrt(8*np.pi/(3**(0.5)*Nsites))\n",
    "    g=1.0\n",
    "    \n",
    "    ans=0.0\n",
    "    ans=p['const']\n",
    "    for i in range(num_exp):\n",
    "        ans+= p[\"a{}\".format(i)]*np.exp(-p[\"E{}\".format(i)]* g * c *t)\n",
    "    \n",
    "    return ans\n",
    "\n",
    "\n",
    "def f_multi_exp2(x,p):\n",
    "    \n",
    "    t=x['t']\n",
    "    num_exp=x['nterms']\n",
    "    c=x['c']\n",
    "    Lt=x['Lt']\n",
    "#     g=np.sqrt(8*np.pi/(3**(0.5)*Nsites))\n",
    "    g=1\n",
    "    \n",
    "#     ans=0.0\n",
    "    ans=p['const']\n",
    "    for i in range(num_exp):\n",
    "        ans+= p[\"a{}\".format(i)]*np.exp(-p[\"E{}\".format(i)]* g * c * t)\n",
    "        ans+= p[\"a{}\".format(i)]*np.exp(-p[\"E{}\".format(i)]* g * c * (Lt-t))\n",
    "    \n",
    "    return ans\n",
    "\n",
    "def f_cosh(x,p):\n",
    "\n",
    "    t=x['t']\n",
    "    num_exp=x['nterms']\n",
    "    c=x['c']\n",
    "    Lt=x['Lt']\n",
    "    g=1\n",
    "\n",
    "    ans=0.0\n",
    "    ans=p['const']\n",
    "    for i in range(num_exp):\n",
    "        ans+= p[\"a{}\".format(i)]*np.cosh(p[\"E{}\".format(i)]* g * c * (Lt/2-t))\n",
    "\n",
    "    return ans"
   ]
  },
  {
   "cell_type": "code",
   "execution_count": 6,
   "id": "719f3e2b-b305-4965-bba4-ddb336237499",
   "metadata": {
    "tags": []
   },
   "outputs": [],
   "source": [
    "def f_make_pars(num_exp,l,use_prior):\n",
    "    \n",
    "    par_dict={}\n",
    "    par_dict = gv.BufferDict()         # any dictionary works\n",
    "\n",
    "    if l==0: \n",
    "        vals_a=[1,1,1,1]; vals_e=[1,3,5,7]\n",
    "    elif l==2: \n",
    "        vals_a=[1,1,1,1]; vals_e=[2,3,5,7] # 2 is Wrap around term\n",
    "    elif l==4: \n",
    "        vals_a=[1e-3,1,1,1]; vals_e=[3,5,7,9] # 3 is SB term\n",
    "    elif l==6: \n",
    "        vals_a=[1e-5,1,1e-5,1,1]; vals_e=[1,7,3,9,11] # 1 is SB term\n",
    "    else: \n",
    "        raise SystemError\n",
    "    w_factor = 0.1 # fraction of uncertainty for prior\n",
    "    \n",
    "    keys_a=[\"a{0}\".format(i) for i in range(num_exp)]\n",
    "    keys_e=[\"E{0}\".format(i) for i in range(num_exp)]\n",
    "    \n",
    "    for count,key in enumerate(keys_e):\n",
    "        if use_prior: \n",
    "            par_dict[key]=gv.gvar(vals_e[count],vals_e[count]*w_factor)\n",
    "        else : \n",
    "            par_dict[key]=vals_e[count]\n",
    "    \n",
    "    for count,key in enumerate(keys_a):\n",
    "        if use_prior: \n",
    "            par_dict[key]=gv.gvar(vals_a[count],vals_a[count]*w_factor)\n",
    "        else : \n",
    "            par_dict[key]=vals_a[count]\n",
    "    \n",
    "                    \n",
    "    if use_prior: par_dict['const']=gv.gvar(1.0,0.2)\n",
    "    else: par_dict['const']=1.0\n",
    "    \n",
    "    return par_dict"
   ]
  },
  {
   "cell_type": "code",
   "execution_count": 7,
   "id": "db18bb3c-2686-4435-8934-8c4ad05c669e",
   "metadata": {},
   "outputs": [],
   "source": [
    "def f_scale_4pt(row,s):\n",
    "    a1=row['coeff']/(dict_global[str(s)]['2pt']**2) # divide by phi_2pt ^ 2 \n",
    "    return a1\n",
    "\n",
    "def f_get_data_df(fname):\n",
    "\n",
    "    arr=np.loadtxt(fname)\n",
    "    \n",
    "    ## Extract values from file name\n",
    "    s=int(fname.split('/')[-1].split('_')[2].split('k')[-1].split('t')[0])\n",
    "    Lt=int(fname.split('/')[-1].split('_')[2].split('k')[-1].split('t')[-1])\n",
    "    \n",
    "    print(s,Lt)\n",
    "    Nsites=10*(s**2)+2\n",
    "    # c=dict_global[str(s)]['c']\n",
    "\n",
    "    ### Gather data from file\n",
    "    cols=['l','t','coeff']\n",
    "    df_data=pd.DataFrame(arr,columns=cols)\n",
    "\n",
    "    ### Process data\n",
    "    # df_data.apply(lambda row: f_scale_4pt(row,s),axis=1)\n",
    "    df_data['coeff']=df_data.apply(lambda row: f_scale_4pt(row,s),axis=1)\n",
    "#     df_data.loc[df_data.l==0,['coeff']]-=1 ## subtract out the 1 for l=0\n",
    "    \n",
    "    # df_data['coeff']=np.array([gv.gvar(i,i*0.01) for i in df_data.coeff.values])\n",
    "    df_data['coeff']=np.array([gv.gvar(i,max(i*1e-4,1e-13)) for i in df_data.coeff.values]) # Ensure error doesn't go below machine precision\n",
    "    \n",
    "\n",
    "    return df_data,Lt\n"
   ]
  },
  {
   "cell_type": "markdown",
   "id": "a1108890-dc9f-4d3c-8b13-03eb13d3d338",
   "metadata": {},
   "source": [
    "## Load global data"
   ]
  },
  {
   "cell_type": "code",
   "execution_count": 9,
   "id": "2a8234e6-f8e7-48d1-b2a3-730381a7338d",
   "metadata": {},
   "outputs": [],
   "source": [
    "data_dir='../data/free_theory/'\n"
   ]
  },
  {
   "cell_type": "code",
   "execution_count": 10,
   "id": "e71a78a8-aacf-46ba-a47f-ed785ea13b3f",
   "metadata": {},
   "outputs": [
    {
     "name": "stdout",
     "output_type": "stream",
     "text": [
      "{'2': {'2pt': 0.02317760518557, 'c': 0.5270296682649}, '4': {'2pt': 0.0112650059431, 'c': 0.2758719374171}, '6': {'2pt': 0.007469977974209, 'c': 0.1855242165075}, '8': {'2pt': 0.005591911340388, 'c': 0.1395708555955}, '12': {'2pt': 0.003722883903237, 'c': 0.09325201809255}, '16': {'2pt': 0.00279083120346, 'c': 0.06999293504594}, '24': {'2pt': 0.001859918908819, 'c': 0.04668766899803}, '32': {'2pt': 0.001394772259558, 'c': 0.03502250646692}}\n"
     ]
    }
   ],
   "source": [
    "## Read global data from files and store in dictionary\n",
    "\n",
    "a1=np.loadtxt(data_dir+'anti_2pt.dat')\n",
    "a2=np.loadtxt(data_dir+'lattice_spacing.dat')\n",
    "assert a1.shape==a2.shape, \"Error in 2pt or lattice spacing files\"\n",
    "\n",
    "\n",
    "dict_global={}\n",
    "# format : dict_global['4']=  {'2pt':1.126500594310e-02, 'c':2.758810226094e-01}\n",
    "\n",
    "for i,j in zip(a1,a2):\n",
    "    key=i[0]\n",
    "    val1=i[1]\n",
    "    val2=j[1]\n",
    "    assert i[0]==j[0], \"Error in (%d,%d) \"%(i[0],j[0]) ## Ensure both files have same 's' values\n",
    "\n",
    "    dict_global[str(int(key))]={'2pt':val1, 'c': val2}\n",
    "\n",
    "print(dict_global)\n"
   ]
  },
  {
   "cell_type": "markdown",
   "id": "0031707f-4734-4645-bf22-69477dde8a28",
   "metadata": {},
   "source": [
    "## Read data from files"
   ]
  },
  {
   "cell_type": "code",
   "execution_count": 11,
   "id": "484bdc9c-f29f-4cc0-92e3-b754e42e5371",
   "metadata": {},
   "outputs": [
    {
     "name": "stdout",
     "output_type": "stream",
     "text": [
      "../../data/free_theory/data_2/s2xr_free_q5k4t64_4pt.dat 4\n",
      "4 64\n",
      "../../data/free_theory/data_2/s2xr_free_q5k8t128_4pt.dat 8\n",
      "8 128\n",
      "../../data/free_theory/data_2/s2xr_free_q5k16t256_4pt.dat 16\n",
      "16 256\n",
      "../../data/free_theory/data_2/s2xr_free_q5k32t512_4pt.dat 32\n",
      "32 512\n"
     ]
    }
   ],
   "source": [
    "data_dict={}\n",
    "s_list=[4,8,16,32]\n",
    "for s in s_list:\n",
    "    # print(data_dir+'s2xr_free_q5k{0}t*_4pt_pl.dat'.format(s))\n",
    "    fname=glob.glob(data_dir+'s2xr_free_q5k{0}t*_4pt.dat'.format(s))[0]\n",
    "    print(fname,s)\n",
    "    df,Lt=f_get_data_df(fname)\n",
    "    data_dict[str(s)]={'df':df,'Lt':Lt}"
   ]
  },
  {
   "cell_type": "markdown",
   "id": "fbe13b08-0287-4fab-a968-9fbf98ca2899",
   "metadata": {},
   "source": [
    "$$ \\frac{\\langle \\phi_4 \\rangle }{ \\langle \\phi_2^2 \\rangle} = \\sum_{l,\\Delta} A_{l,\\Delta} \\cosh\\left[c \\ (\\Delta + l ) (t-T/2) \\right] $$"
   ]
  },
  {
   "cell_type": "markdown",
   "id": "1ddb6a74-d838-41f3-864d-850dee53c1bf",
   "metadata": {},
   "source": [
    "## Interactive fits"
   ]
  },
  {
   "cell_type": "code",
   "execution_count": 12,
   "id": "c5ee7db7-242f-4240-872e-1d1dbccf1241",
   "metadata": {
    "tags": []
   },
   "outputs": [],
   "source": [
    "## Pick a specific correlator for fixed 's' and 'l'\n",
    "s='32';l=0\n",
    "df_temp=data_dict[s]['df']\n",
    "Lt=data_dict[s]['Lt']\n",
    "df_temp=df_temp[df_temp.l==l][['t','coeff']]"
   ]
  },
  {
   "cell_type": "code",
   "execution_count": 13,
   "id": "c2d58305-6c4e-4e65-afeb-83cae5479d0c",
   "metadata": {},
   "outputs": [
    {
     "data": {
      "text/html": [
       "<div>\n",
       "<style scoped>\n",
       "    .dataframe tbody tr th:only-of-type {\n",
       "        vertical-align: middle;\n",
       "    }\n",
       "\n",
       "    .dataframe tbody tr th {\n",
       "        vertical-align: top;\n",
       "    }\n",
       "\n",
       "    .dataframe thead th {\n",
       "        text-align: right;\n",
       "    }\n",
       "</style>\n",
       "<table border=\"1\" class=\"dataframe\">\n",
       "  <thead>\n",
       "    <tr style=\"text-align: right;\">\n",
       "      <th></th>\n",
       "      <th>t</th>\n",
       "      <th>coeff</th>\n",
       "    </tr>\n",
       "  </thead>\n",
       "  <tbody>\n",
       "    <tr>\n",
       "      <th>0</th>\n",
       "      <td>0.0</td>\n",
       "      <td>25.1523(25)</td>\n",
       "    </tr>\n",
       "    <tr>\n",
       "      <th>1</th>\n",
       "      <td>1.0</td>\n",
       "      <td>16.1824(16)</td>\n",
       "    </tr>\n",
       "    <tr>\n",
       "      <th>2</th>\n",
       "      <td>2.0</td>\n",
       "      <td>13.3934(13)</td>\n",
       "    </tr>\n",
       "    <tr>\n",
       "      <th>3</th>\n",
       "      <td>3.0</td>\n",
       "      <td>11.7753(12)</td>\n",
       "    </tr>\n",
       "    <tr>\n",
       "      <th>4</th>\n",
       "      <td>4.0</td>\n",
       "      <td>10.6295(11)</td>\n",
       "    </tr>\n",
       "    <tr>\n",
       "      <th>...</th>\n",
       "      <td>...</td>\n",
       "      <td>...</td>\n",
       "    </tr>\n",
       "    <tr>\n",
       "      <th>252</th>\n",
       "      <td>252.0</td>\n",
       "      <td>0.00410294(41)</td>\n",
       "    </tr>\n",
       "    <tr>\n",
       "      <th>253</th>\n",
       "      <td>253.0</td>\n",
       "      <td>0.00409415(41)</td>\n",
       "    </tr>\n",
       "    <tr>\n",
       "      <th>254</th>\n",
       "      <td>254.0</td>\n",
       "      <td>0.00408788(41)</td>\n",
       "    </tr>\n",
       "    <tr>\n",
       "      <th>255</th>\n",
       "      <td>255.0</td>\n",
       "      <td>0.00408412(41)</td>\n",
       "    </tr>\n",
       "    <tr>\n",
       "      <th>256</th>\n",
       "      <td>256.0</td>\n",
       "      <td>0.00408287(41)</td>\n",
       "    </tr>\n",
       "  </tbody>\n",
       "</table>\n",
       "<p>257 rows × 2 columns</p>\n",
       "</div>"
      ],
      "text/plain": [
       "         t           coeff\n",
       "0      0.0     25.1523(25)\n",
       "1      1.0     16.1824(16)\n",
       "2      2.0     13.3934(13)\n",
       "3      3.0     11.7753(12)\n",
       "4      4.0     10.6295(11)\n",
       "..     ...             ...\n",
       "252  252.0  0.00410294(41)\n",
       "253  253.0  0.00409415(41)\n",
       "254  254.0  0.00408788(41)\n",
       "255  255.0  0.00408412(41)\n",
       "256  256.0  0.00408287(41)\n",
       "\n",
       "[257 rows x 2 columns]"
      ]
     },
     "execution_count": 13,
     "metadata": {},
     "output_type": "execute_result"
    }
   ],
   "source": [
    "df_temp"
   ]
  },
  {
   "cell_type": "markdown",
   "id": "56f52005-3934-4bf5-bf3a-2bd29a86f297",
   "metadata": {},
   "source": [
    "### Plot correlator and effective mass"
   ]
  },
  {
   "cell_type": "code",
   "execution_count": 14,
   "id": "f909fea4-9603-40f3-9b5b-1371a623a07d",
   "metadata": {},
   "outputs": [
    {
     "data": {
      "application/vnd.jupyter.widget-view+json": {
       "model_id": "2c274c9528bc4f6db9a9fe77b7c207ae",
       "version_major": 2,
       "version_minor": 0
      },
      "image/png": "[encoded data removed]",
      "text/plain": [
       "Canvas(toolbar=Toolbar(toolitems=[('Home', 'Reset original view', 'home', 'home'), ('Back', 'Back to previous …"
      ]
     },
     "metadata": {},
     "output_type": "display_data"
    },
    {
     "data": {
      "text/plain": [
       "Text(0.5, 1.0, 'Effective mass')"
      ]
     },
     "execution_count": 14,
     "metadata": {},
     "output_type": "execute_result"
    },
    {
     "data": {
      "application/vnd.jupyter.widget-view+json": {
       "model_id": "1923b9f8deb544539dbaf043a2092523",
       "version_major": 2,
       "version_minor": 0
      },
      "image/png": "[encoded data removed]",
      "text/plain": [
       "Canvas(toolbar=Toolbar(toolitems=[('Home', 'Reset original view', 'home', 'home'), ('Back', 'Back to previous …"
      ]
     },
     "metadata": {},
     "output_type": "display_data"
    }
   ],
   "source": [
    "plt.figure()\n",
    "x=df_temp.t.values\n",
    "y=[i.mean for i in df_temp.coeff.values]\n",
    "yerr=[i.sdev for i in df_temp.coeff.values]\n",
    "\n",
    "plt.errorbar(x,y,yerr,marker='o',linestyle='')\n",
    "plt.ylabel('Corr')\n",
    "plt.xlabel('t')\n",
    "plt.yscale('log')\n",
    "plt.show()\n",
    "\n",
    "## Effective mass\n",
    "f_plot_meff(df_temp.t.values[:120],df_temp.coeff.values[:120],120)\n",
    "plt.title(\"Effective mass\")"
   ]
  },
  {
   "cell_type": "markdown",
   "id": "edfaa07c-8f44-4453-b087-fe9eb8bf4519",
   "metadata": {},
   "source": [
    "### Widget"
   ]
  },
  {
   "cell_type": "code",
   "execution_count": 15,
   "id": "c6697d99-c75c-46f9-9e59-69c86753d8fb",
   "metadata": {},
   "outputs": [],
   "source": [
    "Corr=corr(df=df_temp,l=l,c=dict_global[str(s)]['c'],s=s,Lt=Lt)"
   ]
  },
  {
   "cell_type": "code",
   "execution_count": 16,
   "id": "816e7c1c-576f-4925-b088-da4ebce90649",
   "metadata": {},
   "outputs": [
    {
     "data": {
      "application/vnd.jupyter.widget-view+json": {
       "model_id": "493addba43fa45cc8298a7438408ab3b",
       "version_major": 2,
       "version_minor": 0
      },
      "text/plain": [
       "Output()"
      ]
     },
     "metadata": {},
     "output_type": "display_data"
    },
    {
     "data": {
      "application/vnd.jupyter.widget-view+json": {
       "model_id": "53a64c0304e34800b80811ea9e60f09c",
       "version_major": 2,
       "version_minor": 0
      },
      "text/plain": [
       "HBox(children=(VBox(children=(IntRangeSlider(value=(20, 256), description='trange', max=256), IntRangeSlider(v…"
      ]
     },
     "metadata": {},
     "output_type": "display_data"
    }
   ],
   "source": [
    "tmax=int(np.max(df_temp.t.values)) # Max value of t obtained from dataframe\n",
    "\n",
    "func_w=Dropdown(options=[f_multi_exp,f_multi_exp2,f_cosh],value=f_multi_exp2,description='fit func',disabled=False)\n",
    "tr=IntRangeSlider(value=[20,tmax],min=0,max=tmax,step=1,description='trange')\n",
    "pr=IntRangeSlider(value=[0,tmax],min=0,max=tmax,step=1,description='plot range')\n",
    "pr_w=widgets.Checkbox(value=False,description='use_prior',indent=False,disabled=False)\n",
    "plt_w=Checkbox(value=True,description='plot',indent=False,disabled=False)\n",
    "numexp_w=IntSlider(value=2,min=1,max=8,step=1,description='num_exp')\n",
    "verbose_w=IntSlider(value=0,min=-1,max=2,step=1,description='verbose_w')\n",
    "\n",
    "# (self,f_make_pars,func,fit_range,plt_range,num_exp=3,verbose=0,use_prior=False,plot=True)\n",
    "\n",
    "v1=VBox([tr,pr])\n",
    "v2=VBox([numexp_w,verbose_w])\n",
    "v3=VBox([plt_w,pr_w])\n",
    "\n",
    "ui=HBox(children=[v1,func_w,v2,v3])\n",
    "        \n",
    "out=interactive_output(Corr.f_perform_fit_exp, {'f_make_pars':fixed(f_make_pars),\n",
    "         'func':func_w,'fit_range':tr, 'plt_range':pr,'num_exp':numexp_w, \n",
    "         'verbose':verbose_w,'use_prior':pr_w,'plot':plt_w})\n",
    "\n",
    "display(out,ui)"
   ]
  },
  {
   "cell_type": "code",
   "execution_count": 17,
   "id": "ed13eb57-beb3-43c9-9ead-b4ae531629cc",
   "metadata": {},
   "outputs": [],
   "source": [
    "# Corr.f_perform_fit_exp(f_make_pars,f_multi_exp2,np.arange(6,24),[0,32],1,0,False,True) # l=0,1,2,3"
   ]
  },
  {
   "cell_type": "code",
   "execution_count": null,
   "id": "bd9706e3-556b-48d8-b27e-57c154a79c10",
   "metadata": {},
   "outputs": [],
   "source": []
  }
 ],
 "metadata": {
  "kernelspec": {
   "display_name": "v3",
   "language": "python",
   "name": "vpy39"
  },
  "language_info": {
   "codemirror_mode": {
    "name": "ipython",
    "version": 3
   },
   "file_extension": ".py",
   "mimetype": "text/x-python",
   "name": "python",
   "nbconvert_exporter": "python",
   "pygments_lexer": "ipython3",
   "version": "3.9.7"
  },
  "toc-autonumbering": true,
  "toc-showmarkdowntxt": false
 },
 "nbformat": 4,
 "nbformat_minor": 5
}

{
 "cells": [
  {
   "cell_type": "markdown",
   "id": "a276f86f-0778-4b51-ae48-3037dff8f35f",
   "metadata": {},
   "source": [
    "# Combine model avg fits\n",
    "Read fit results and combine them to give estimates for parameters\n",
    "\n",
    "Dec 28, 2022"
   ]
  },
  {
   "cell_type": "code",
   "execution_count": 20,
   "id": "9a7c2516-5d5d-40fb-a984-a683d9c802b1",
   "metadata": {},
   "outputs": [],
   "source": [
    "import numpy as np\n",
    "import pandas as pd\n",
    "import matplotlib.pyplot as plt\n",
    "\n",
    "from ipywidgets import *\n",
    "import glob \n",
    "import sys\n",
    "import pickle \n",
    "import scipy.special as sc\n",
    "# from scipy.special import logsumexp as sc.logsumexp\n",
    "\n",
    "## Import fitting modules\n",
    "import gvar as gv\n",
    "import lsqfit\n"
   ]
  },
  {
   "cell_type": "code",
   "execution_count": 21,
   "id": "0770fecf-1e55-4632-8160-70ac5cfeb524",
   "metadata": {},
   "outputs": [],
   "source": [
    "%matplotlib widget"
   ]
  },
  {
   "cell_type": "code",
   "execution_count": 22,
   "id": "ee8674fa-adba-45e4-8c17-fcb2b62f4aae",
   "metadata": {},
   "outputs": [],
   "source": [
    "from modules import *"
   ]
  },
  {
   "cell_type": "markdown",
   "id": "66d073e9-b8f5-4f79-828e-537268bba01a",
   "metadata": {},
   "source": [
    "### Load data for troubleshooting fits"
   ]
  },
  {
   "cell_type": "code",
   "execution_count": 23,
   "id": "06a6ba4f-a644-4928-90f3-c55811a7e056",
   "metadata": {},
   "outputs": [
    {
     "name": "stdout",
     "output_type": "stream",
     "text": [
      "{'4': {'2pt': 0.0112650059431, 'c': 0.2758810226094}, '8': {'2pt': 0.005591911340388, 'c': 0.1395714549742}, '16': {'2pt': 0.00279083120346, 'c': 0.06999296068404}}\n",
      "../../data/free_theory/s2xr_free_q5k4t*_4pt_pl.dat\n",
      "../../data/free_theory/s2xr_free_q5k4t64_4pt_pl.dat 4\n",
      "4 64\n",
      "../../data/free_theory/s2xr_free_q5k8t*_4pt_pl.dat\n",
      "../../data/free_theory/s2xr_free_q5k8t128_4pt_pl.dat 8\n",
      "8 128\n",
      "../../data/free_theory/s2xr_free_q5k16t*_4pt_pl.dat\n",
      "../../data/free_theory/s2xr_free_q5k16t256_4pt_pl.dat 16\n",
      "16 256\n"
     ]
    }
   ],
   "source": [
    "if __name__==\"__main__\":\n",
    "    \n",
    "    ### Set values for 2pt function and speed of light #####\n",
    "    dict_global={}\n",
    "    dict_global['4']=  {'2pt':1.126500594310e-02, 'c':2.758810226094e-01}\n",
    "    dict_global['8']=  {'2pt':5.591911340388e-03, 'c':1.395714549742e-01}\n",
    "    dict_global['16']= {'2pt':2.790831203460e-03, 'c':6.999296068404e-02}\n",
    "    print(dict_global)\n",
    "    \n",
    "    ### Load entire data ####\n",
    "    data_dict={}\n",
    "\n",
    "    s_list=[4,8,16]\n",
    "    data_dir='../../data/free_theory/'\n",
    "\n",
    "    for s in s_list:\n",
    "        \n",
    "        print(data_dir+'s2xr_free_q5k{0}t*_4pt_pl.dat'.format(s))\n",
    "        fname=glob.glob(data_dir+'s2xr_free_q5k{0}t*_4pt_pl.dat'.format(s))[0]\n",
    "        print(fname,s)\n",
    "        df,Lt=f_get_data_df(fname,dict_global)\n",
    "        data_dict[str(s)]={'df':df,'Lt':Lt}\n"
   ]
  },
  {
   "cell_type": "markdown",
   "id": "5b9abc82-0c19-42aa-b9aa-a9688df0f8ff",
   "metadata": {},
   "source": [
    "### Read stored data and average"
   ]
  },
  {
   "cell_type": "code",
   "execution_count": 24,
   "id": "f740b1cb-6197-4f81-b48a-af68a68968e5",
   "metadata": {
    "tags": []
   },
   "outputs": [
    {
     "name": "stdout",
     "output_type": "stream",
     "text": [
      "4 0\n",
      "../../data/stored_results/l0_s4.df_fits\n",
      "(10, 24)\n",
      "4 2\n",
      "../../data/stored_results/l2_s4.df_fits\n",
      "(6, 24)\n"
     ]
    },
    {
     "name": "stderr",
     "output_type": "stream",
     "text": [
      "/Users/vayyar/Desktop/work/PROJECTS/summary_git_repo/Code_highlights/2_Correlated_Fits_QFE/fit_4pt_function/code/model_avg/modules.py:432: SettingWithCopyWarning: \n",
      "A value is trying to be set on a copy of a slice from a DataFrame.\n",
      "Try using .loc[row_indexer,col_indexer] = value instead\n",
      "\n",
      "See the caveats in the documentation: https://pandas.pydata.org/pandas-docs/stable/user_guide/indexing.html#returning-a-view-versus-a-copy\n",
      "  df_fits['normed_prob']=df_fits.apply(lambda row : np.exp(row.fit_wt-S),axis=1)\n",
      "/Users/vayyar/Desktop/work/PROJECTS/summary_git_repo/Code_highlights/2_Correlated_Fits_QFE/fit_4pt_function/code/model_avg/modules.py:432: SettingWithCopyWarning: \n",
      "A value is trying to be set on a copy of a slice from a DataFrame.\n",
      "Try using .loc[row_indexer,col_indexer] = value instead\n",
      "\n",
      "See the caveats in the documentation: https://pandas.pydata.org/pandas-docs/stable/user_guide/indexing.html#returning-a-view-versus-a-copy\n",
      "  df_fits['normed_prob']=df_fits.apply(lambda row : np.exp(row.fit_wt-S),axis=1)\n"
     ]
    }
   ],
   "source": [
    "save_loc='../../data/stored_results/'\n",
    "\n",
    "s_list=[4,8,16]\n",
    "\n",
    "all_pars=[\"a{0}\".format(i) for i in range(4)]+[\"E{0}\".format(i) for i in range(4)]+['const']\n",
    "cols=['s','l']+all_pars\n",
    "df_results=pd.DataFrame(columns=cols)\n",
    "    \n",
    "    \n",
    "for s in [str(i) for i in s_list][:]:\n",
    "    for l in [0,2,4,6][:]:\n",
    "        print(s,l)\n",
    "        \n",
    "#         Read fits from file\n",
    "        fname=save_loc+'l{0}_s{1}.df_fits'.format(l,s)\n",
    "        print(fname)\n",
    "        df_fits=pd.read_pickle(fname)\n",
    "        \n",
    "        df_fits,df_avg=f_avg_all_models(df_fits)\n",
    "        print(df_fits.shape)\n",
    "        \n",
    "        # Store result\n",
    "        dict2=dict.fromkeys(all_pars,np.nan)\n",
    "        dict2['s']=int(s)\n",
    "        dict2['l']=l\n",
    "\n",
    "        count=0\n",
    "        pars=df_avg.columns\n",
    "        for key in pars:    dict2[key]=df_avg.loc['value',key]\n",
    "#         print(dict2)\n",
    "        df_results=pd.concat([df_results,pd.DataFrame(dict2,index=[count])])\n",
    "        count+=1"
   ]
  },
  {
   "cell_type": "markdown",
   "id": "6b58cb46-ff6e-46a7-b58b-a3d3f28d23f5",
   "metadata": {},
   "source": [
    "### View results"
   ]
  },
  {
   "cell_type": "code",
   "execution_count": 25,
   "id": "3d7b5f3f-e8a7-4773-9401-e49c8acf7036",
   "metadata": {},
   "outputs": [
    {
     "data": {
      "text/html": [
       "<div>\n",
       "<style scoped>\n",
       "    .dataframe tbody tr th:only-of-type {\n",
       "        vertical-align: middle;\n",
       "    }\n",
       "\n",
       "    .dataframe tbody tr th {\n",
       "        vertical-align: top;\n",
       "    }\n",
       "\n",
       "    .dataframe thead th {\n",
       "        text-align: right;\n",
       "    }\n",
       "</style>\n",
       "<table border=\"1\" class=\"dataframe\">\n",
       "  <thead>\n",
       "    <tr style=\"text-align: right;\">\n",
       "      <th></th>\n",
       "      <th>s</th>\n",
       "      <th>l</th>\n",
       "      <th>a0</th>\n",
       "      <th>a1</th>\n",
       "      <th>a2</th>\n",
       "      <th>a3</th>\n",
       "      <th>E0</th>\n",
       "      <th>E1</th>\n",
       "      <th>E2</th>\n",
       "      <th>E3</th>\n",
       "      <th>const</th>\n",
       "    </tr>\n",
       "  </thead>\n",
       "  <tbody>\n",
       "    <tr>\n",
       "      <th>0</th>\n",
       "      <td>4</td>\n",
       "      <td>0</td>\n",
       "      <td>7.8556(18)</td>\n",
       "      <td>2.66(84)</td>\n",
       "      <td>3(14)</td>\n",
       "      <td>3(29)</td>\n",
       "      <td>0.999219(46)</td>\n",
       "      <td>3.00(13)</td>\n",
       "      <td>5.7(7.6)</td>\n",
       "      <td>10(69)</td>\n",
       "      <td>0.00231849(63)</td>\n",
       "    </tr>\n",
       "    <tr>\n",
       "      <th>0</th>\n",
       "      <td>4</td>\n",
       "      <td>2</td>\n",
       "      <td>0.000488(30)</td>\n",
       "      <td>3.82(82)</td>\n",
       "      <td>1.53(62)</td>\n",
       "      <td>1.97(17)</td>\n",
       "      <td>1.9377(76)</td>\n",
       "      <td>2.933(23)</td>\n",
       "      <td>4.59(39)</td>\n",
       "      <td>6.45(74)</td>\n",
       "      <td>7.90(29)e-12</td>\n",
       "    </tr>\n",
       "  </tbody>\n",
       "</table>\n",
       "</div>"
      ],
      "text/plain": [
       "   s  l            a0        a1        a2        a3            E0         E1  \\\n",
       "0  4  0    7.8556(18)  2.66(84)     3(14)     3(29)  0.999219(46)   3.00(13)   \n",
       "0  4  2  0.000488(30)  3.82(82)  1.53(62)  1.97(17)    1.9377(76)  2.933(23)   \n",
       "\n",
       "         E2        E3           const  \n",
       "0  5.7(7.6)    10(69)  0.00231849(63)  \n",
       "0  4.59(39)  6.45(74)    7.90(29)e-12  "
      ]
     },
     "execution_count": 25,
     "metadata": {},
     "output_type": "execute_result"
    }
   ],
   "source": [
    "df_results.sort_values(by=['l','s'])\n"
   ]
  },
  {
   "cell_type": "markdown",
   "id": "0f9a98d8-a3ef-44eb-8db6-3abaa199ff62",
   "metadata": {},
   "source": [
    "## Troubleshooting "
   ]
  },
  {
   "cell_type": "markdown",
   "id": "c5ab1c44-7f81-4ea3-bcd2-b1b0979db407",
   "metadata": {},
   "source": [
    "### View fits dataframe"
   ]
  },
  {
   "cell_type": "code",
   "execution_count": 26,
   "id": "8cb1d749-c81a-4f1a-a3f1-6697739378fc",
   "metadata": {},
   "outputs": [
    {
     "name": "stdout",
     "output_type": "stream",
     "text": [
      "4 0\n"
     ]
    }
   ],
   "source": [
    "s=4;l=0\n",
    "print(s,l)\n",
    "fname=save_loc+'l{0}_s{1}.df_fits'.format(l,s)\n",
    "df_fits=pd.read_pickle(fname)"
   ]
  },
  {
   "cell_type": "code",
   "execution_count": 27,
   "id": "70b76529-6d22-44e1-800b-34d4393d7c7f",
   "metadata": {},
   "outputs": [
    {
     "data": {
      "text/html": [
       "<div>\n",
       "<style scoped>\n",
       "    .dataframe tbody tr th:only-of-type {\n",
       "        vertical-align: middle;\n",
       "    }\n",
       "\n",
       "    .dataframe tbody tr th {\n",
       "        vertical-align: top;\n",
       "    }\n",
       "\n",
       "    .dataframe thead th {\n",
       "        text-align: right;\n",
       "    }\n",
       "</style>\n",
       "<table border=\"1\" class=\"dataframe\">\n",
       "  <thead>\n",
       "    <tr style=\"text-align: right;\">\n",
       "      <th></th>\n",
       "      <th>name</th>\n",
       "      <th>chi2_dof</th>\n",
       "      <th>fit_wt</th>\n",
       "      <th>num_exp</th>\n",
       "      <th>a0</th>\n",
       "      <th>a1</th>\n",
       "      <th>a2</th>\n",
       "      <th>a3</th>\n",
       "      <th>E0</th>\n",
       "      <th>E1</th>\n",
       "      <th>E2</th>\n",
       "      <th>E3</th>\n",
       "    </tr>\n",
       "  </thead>\n",
       "  <tbody>\n",
       "    <tr>\n",
       "      <th>16</th>\n",
       "      <td>trange_0-32</td>\n",
       "      <td>5.722187e-04</td>\n",
       "      <td>-9.006581</td>\n",
       "      <td>4</td>\n",
       "      <td>7.8554(16)</td>\n",
       "      <td>2.62(26)</td>\n",
       "      <td>2.46(49)</td>\n",
       "      <td>3.61(72)</td>\n",
       "      <td>0.999213(42)</td>\n",
       "      <td>2.995(56)</td>\n",
       "      <td>5.51(77)</td>\n",
       "      <td>11.2(1.1)</td>\n",
       "    </tr>\n",
       "    <tr>\n",
       "      <th>2</th>\n",
       "      <td>trange_2-32</td>\n",
       "      <td>3.523125e-03</td>\n",
       "      <td>-9.040516</td>\n",
       "      <td>3</td>\n",
       "      <td>7.8556(15)</td>\n",
       "      <td>2.69(17)</td>\n",
       "      <td>3.01(29)</td>\n",
       "      <td>NaN</td>\n",
       "      <td>0.999217(39)</td>\n",
       "      <td>3.009(40)</td>\n",
       "      <td>5.92(50)</td>\n",
       "      <td>NaN</td>\n",
       "    </tr>\n",
       "    <tr>\n",
       "      <th>1</th>\n",
       "      <td>trange_1-32</td>\n",
       "      <td>1.451472e-01</td>\n",
       "      <td>-9.741766</td>\n",
       "      <td>3</td>\n",
       "      <td>7.8570(11)</td>\n",
       "      <td>2.941(55)</td>\n",
       "      <td>4.057(43)</td>\n",
       "      <td>NaN</td>\n",
       "      <td>0.999253(32)</td>\n",
       "      <td>3.065(16)</td>\n",
       "      <td>7.02(14)</td>\n",
       "      <td>NaN</td>\n",
       "    </tr>\n",
       "    <tr>\n",
       "      <th>17</th>\n",
       "      <td>trange_1-32</td>\n",
       "      <td>1.117270e-05</td>\n",
       "      <td>-10.000123</td>\n",
       "      <td>4</td>\n",
       "      <td>7.8553(20)</td>\n",
       "      <td>2.56(73)</td>\n",
       "      <td>2.1(3.2)</td>\n",
       "      <td>3.38(84)</td>\n",
       "      <td>0.999210(51)</td>\n",
       "      <td>2.98(13)</td>\n",
       "      <td>5.2(3.1)</td>\n",
       "      <td>9.7(9.3)</td>\n",
       "    </tr>\n",
       "    <tr>\n",
       "      <th>3</th>\n",
       "      <td>trange_3-32</td>\n",
       "      <td>9.844875e-05</td>\n",
       "      <td>-10.001083</td>\n",
       "      <td>3</td>\n",
       "      <td>7.8553(18)</td>\n",
       "      <td>2.59(45)</td>\n",
       "      <td>2.5(1.4)</td>\n",
       "      <td>NaN</td>\n",
       "      <td>0.999211(47)</td>\n",
       "      <td>2.989(89)</td>\n",
       "      <td>5.4(1.7)</td>\n",
       "      <td>NaN</td>\n",
       "    </tr>\n",
       "    <tr>\n",
       "      <th>18</th>\n",
       "      <td>trange_2-32</td>\n",
       "      <td>1.612435e-07</td>\n",
       "      <td>-11.000002</td>\n",
       "      <td>4</td>\n",
       "      <td>7.8553(25)</td>\n",
       "      <td>2.5(1.9)</td>\n",
       "      <td>2(20)</td>\n",
       "      <td>3(18)</td>\n",
       "      <td>0.999209(62)</td>\n",
       "      <td>2.98(30)</td>\n",
       "      <td>5(13)</td>\n",
       "      <td>8(63)</td>\n",
       "    </tr>\n",
       "    <tr>\n",
       "      <th>4</th>\n",
       "      <td>trange_4-32</td>\n",
       "      <td>3.311382e-06</td>\n",
       "      <td>-11.000035</td>\n",
       "      <td>3</td>\n",
       "      <td>7.8553(22)</td>\n",
       "      <td>2.6(1.1)</td>\n",
       "      <td>2.1(6.0)</td>\n",
       "      <td>NaN</td>\n",
       "      <td>0.999210(56)</td>\n",
       "      <td>2.98(18)</td>\n",
       "      <td>5.2(5.3)</td>\n",
       "      <td>NaN</td>\n",
       "    </tr>\n",
       "    <tr>\n",
       "      <th>19</th>\n",
       "      <td>trange_3-32</td>\n",
       "      <td>2.025547e-09</td>\n",
       "      <td>-12.000000</td>\n",
       "      <td>4</td>\n",
       "      <td>7.8553(32)</td>\n",
       "      <td>2.5(4.8)</td>\n",
       "      <td>2(108)</td>\n",
       "      <td>2(158)</td>\n",
       "      <td>0.999209(77)</td>\n",
       "      <td>2.98(64)</td>\n",
       "      <td>5(55)</td>\n",
       "      <td>8(369)</td>\n",
       "    </tr>\n",
       "    <tr>\n",
       "      <th>5</th>\n",
       "      <td>trange_5-32</td>\n",
       "      <td>1.247886e-07</td>\n",
       "      <td>-12.000001</td>\n",
       "      <td>3</td>\n",
       "      <td>7.8553(27)</td>\n",
       "      <td>2.5(2.4)</td>\n",
       "      <td>2(24)</td>\n",
       "      <td>NaN</td>\n",
       "      <td>0.999209(66)</td>\n",
       "      <td>2.98(36)</td>\n",
       "      <td>5(17)</td>\n",
       "      <td>NaN</td>\n",
       "    </tr>\n",
       "    <tr>\n",
       "      <th>6</th>\n",
       "      <td>trange_6-32</td>\n",
       "      <td>5.006052e-09</td>\n",
       "      <td>-13.000000</td>\n",
       "      <td>3</td>\n",
       "      <td>7.8553(33)</td>\n",
       "      <td>2.5(5.1)</td>\n",
       "      <td>2(89)</td>\n",
       "      <td>NaN</td>\n",
       "      <td>0.999209(80)</td>\n",
       "      <td>2.98(69)</td>\n",
       "      <td>5(51)</td>\n",
       "      <td>NaN</td>\n",
       "    </tr>\n",
       "    <tr>\n",
       "      <th>20</th>\n",
       "      <td>trange_4-32</td>\n",
       "      <td>4.264637e-04</td>\n",
       "      <td>-13.004051</td>\n",
       "      <td>4</td>\n",
       "      <td>0.6747(93)</td>\n",
       "      <td>7.1805(86)</td>\n",
       "      <td>2.4(2.8)</td>\n",
       "      <td>1.7(3.2)</td>\n",
       "      <td>1(11)</td>\n",
       "      <td>1.0(1.0)</td>\n",
       "      <td>2.96(51)</td>\n",
       "      <td>4.7(7.1)</td>\n",
       "    </tr>\n",
       "    <tr>\n",
       "      <th>7</th>\n",
       "      <td>trange_7-32</td>\n",
       "      <td>2.085168e-10</td>\n",
       "      <td>-14.000000</td>\n",
       "      <td>3</td>\n",
       "      <td>7.8553(41)</td>\n",
       "      <td>3(11)</td>\n",
       "      <td>2(323)</td>\n",
       "      <td>NaN</td>\n",
       "      <td>0.999209(96)</td>\n",
       "      <td>3.0(1.3)</td>\n",
       "      <td>5(158)</td>\n",
       "      <td>NaN</td>\n",
       "    </tr>\n",
       "    <tr>\n",
       "      <th>21</th>\n",
       "      <td>trange_5-32</td>\n",
       "      <td>1.386540e-07</td>\n",
       "      <td>-14.000001</td>\n",
       "      <td>4</td>\n",
       "      <td>7.9(1.0)</td>\n",
       "      <td>-0.03(99)</td>\n",
       "      <td>2.5(4.6)</td>\n",
       "      <td>2(33)</td>\n",
       "      <td>1 +- 1.1e+04</td>\n",
       "      <td>1 +- 3.2e+06</td>\n",
       "      <td>2.98(78)</td>\n",
       "      <td>5(26)</td>\n",
       "    </tr>\n",
       "    <tr>\n",
       "      <th>8</th>\n",
       "      <td>trange_8-32</td>\n",
       "      <td>9.060290e-12</td>\n",
       "      <td>-15.000000</td>\n",
       "      <td>3</td>\n",
       "      <td>7.8553(52)</td>\n",
       "      <td>3(22)</td>\n",
       "      <td>2(1151)</td>\n",
       "      <td>NaN</td>\n",
       "      <td>0.99921(12)</td>\n",
       "      <td>3.0(2.5)</td>\n",
       "      <td>5(486)</td>\n",
       "      <td>NaN</td>\n",
       "    </tr>\n",
       "    <tr>\n",
       "      <th>22</th>\n",
       "      <td>trange_6-32</td>\n",
       "      <td>5.595000e-09</td>\n",
       "      <td>-15.000000</td>\n",
       "      <td>4</td>\n",
       "      <td>7.8553(73)</td>\n",
       "      <td>-2(25)</td>\n",
       "      <td>4(24)</td>\n",
       "      <td>2(227)</td>\n",
       "      <td>0.99921(16)</td>\n",
       "      <td>3 +- 6.3e+05</td>\n",
       "      <td>3 +- 2.7e+05</td>\n",
       "      <td>5(198)</td>\n",
       "    </tr>\n",
       "  </tbody>\n",
       "</table>\n",
       "</div>"
      ],
      "text/plain": [
       "           name      chi2_dof     fit_wt  num_exp          a0          a1  \\\n",
       "16  trange_0-32  5.722187e-04  -9.006581        4  7.8554(16)    2.62(26)   \n",
       "2   trange_2-32  3.523125e-03  -9.040516        3  7.8556(15)    2.69(17)   \n",
       "1   trange_1-32  1.451472e-01  -9.741766        3  7.8570(11)   2.941(55)   \n",
       "17  trange_1-32  1.117270e-05 -10.000123        4  7.8553(20)    2.56(73)   \n",
       "3   trange_3-32  9.844875e-05 -10.001083        3  7.8553(18)    2.59(45)   \n",
       "18  trange_2-32  1.612435e-07 -11.000002        4  7.8553(25)    2.5(1.9)   \n",
       "4   trange_4-32  3.311382e-06 -11.000035        3  7.8553(22)    2.6(1.1)   \n",
       "19  trange_3-32  2.025547e-09 -12.000000        4  7.8553(32)    2.5(4.8)   \n",
       "5   trange_5-32  1.247886e-07 -12.000001        3  7.8553(27)    2.5(2.4)   \n",
       "6   trange_6-32  5.006052e-09 -13.000000        3  7.8553(33)    2.5(5.1)   \n",
       "20  trange_4-32  4.264637e-04 -13.004051        4  0.6747(93)  7.1805(86)   \n",
       "7   trange_7-32  2.085168e-10 -14.000000        3  7.8553(41)       3(11)   \n",
       "21  trange_5-32  1.386540e-07 -14.000001        4    7.9(1.0)   -0.03(99)   \n",
       "8   trange_8-32  9.060290e-12 -15.000000        3  7.8553(52)       3(22)   \n",
       "22  trange_6-32  5.595000e-09 -15.000000        4  7.8553(73)      -2(25)   \n",
       "\n",
       "           a2        a3            E0            E1            E2         E3  \n",
       "16   2.46(49)  3.61(72)  0.999213(42)     2.995(56)      5.51(77)  11.2(1.1)  \n",
       "2    3.01(29)       NaN  0.999217(39)     3.009(40)      5.92(50)        NaN  \n",
       "1   4.057(43)       NaN  0.999253(32)     3.065(16)      7.02(14)        NaN  \n",
       "17   2.1(3.2)  3.38(84)  0.999210(51)      2.98(13)      5.2(3.1)   9.7(9.3)  \n",
       "3    2.5(1.4)       NaN  0.999211(47)     2.989(89)      5.4(1.7)        NaN  \n",
       "18      2(20)     3(18)  0.999209(62)      2.98(30)         5(13)      8(63)  \n",
       "4    2.1(6.0)       NaN  0.999210(56)      2.98(18)      5.2(5.3)        NaN  \n",
       "19     2(108)    2(158)  0.999209(77)      2.98(64)         5(55)     8(369)  \n",
       "5       2(24)       NaN  0.999209(66)      2.98(36)         5(17)        NaN  \n",
       "6       2(89)       NaN  0.999209(80)      2.98(69)         5(51)        NaN  \n",
       "20   2.4(2.8)  1.7(3.2)         1(11)      1.0(1.0)      2.96(51)   4.7(7.1)  \n",
       "7      2(323)       NaN  0.999209(96)      3.0(1.3)        5(158)        NaN  \n",
       "21   2.5(4.6)     2(33)  1 +- 1.1e+04  1 +- 3.2e+06      2.98(78)      5(26)  \n",
       "8     2(1151)       NaN   0.99921(12)      3.0(2.5)        5(486)        NaN  \n",
       "22      4(24)    2(227)   0.99921(16)  3 +- 6.3e+05  3 +- 2.7e+05     5(198)  "
      ]
     },
     "execution_count": 27,
     "metadata": {},
     "output_type": "execute_result"
    }
   ],
   "source": [
    "sub_cols=['name','chi2_dof','fit_wt','num_exp','a0','a1','a2','a3','E0','E1','E2','E3']\n",
    "df_fits[sub_cols].sort_values(by=['fit_wt'],ascending=False).head(15)"
   ]
  },
  {
   "cell_type": "code",
   "execution_count": 18,
   "id": "50506ec9-c130-4e12-a036-1abb16082055",
   "metadata": {
    "tags": []
   },
   "outputs": [],
   "source": [
    "# df_fits.sort_values(by=['chi2_dof'],ascending=True)"
   ]
  },
  {
   "cell_type": "markdown",
   "id": "edfaa07c-8f44-4453-b087-fe9eb8bf4519",
   "metadata": {},
   "source": [
    "### Perform fit for specific trange"
   ]
  },
  {
   "cell_type": "code",
   "execution_count": 28,
   "id": "b7a72326-3b34-4ad4-b04b-d33f7eca8be0",
   "metadata": {},
   "outputs": [],
   "source": [
    "s='4';l=0\n",
    "df_temp=data_dict[s]['df']\n",
    "Lt=data_dict[s]['Lt']\n",
    "df_temp=df_temp[df_temp.l==l][['t','coeff']]\n",
    "\n",
    "Corr=corr(df=df_temp,l=l,c=dict_global[str(s)]['c'],s=s,Lt=Lt)"
   ]
  },
  {
   "cell_type": "code",
   "execution_count": 29,
   "id": "816e7c1c-576f-4925-b088-da4ebce90649",
   "metadata": {
    "tags": []
   },
   "outputs": [
    {
     "data": {
      "application/vnd.jupyter.widget-view+json": {
       "model_id": "815f72fa4000489fb9f4ec6e24168a5b",
       "version_major": 2,
       "version_minor": 0
      },
      "text/plain": [
       "Output()"
      ]
     },
     "metadata": {},
     "output_type": "display_data"
    },
    {
     "data": {
      "application/vnd.jupyter.widget-view+json": {
       "model_id": "316a4eca3ea3402faafe80e9e2252450",
       "version_major": 2,
       "version_minor": 0
      },
      "text/plain": [
       "HBox(children=(VBox(children=(IntRangeSlider(value=(20, 32), description='trange', max=32), IntRangeSlider(val…"
      ]
     },
     "metadata": {},
     "output_type": "display_data"
    }
   ],
   "source": [
    "tmax=int(np.max(df_temp.t.values)) # Max value of t obtained from dataframe\n",
    "\n",
    "func_w=Dropdown(options=[f_multi_exp,f_multi_exp2,f_cosh],value=f_multi_exp2,description='fit func',disabled=False)\n",
    "tr=IntRangeSlider(value=[20,tmax],min=0,max=tmax,step=1,description='trange')\n",
    "pr=IntRangeSlider(value=[0,tmax],min=0,max=tmax,step=1,description='plot range')\n",
    "pr_w=widgets.Checkbox(value=False,description='use_prior',indent=False,disabled=False)\n",
    "plt_w=Checkbox(value=True,description='plot',indent=False,disabled=False)\n",
    "numexp_w=IntSlider(value=2,min=1,max=8,step=1,description='num_exp')\n",
    "verbose_w=IntSlider(value=1,min=-1,max=2,step=1,description='verbose_w')\n",
    "\n",
    "# (self,f_make_pars,func,fit_range,plt_range,num_exp=3,verbose=0,use_prior=False,plot=True)\n",
    "\n",
    "v1=VBox([tr,pr])\n",
    "v2=VBox([numexp_w,verbose_w])\n",
    "v3=VBox([pr_w,plt_w])\n",
    "\n",
    "ui=HBox(children=[v1,func_w,v2,v3])\n",
    "        \n",
    "out=interactive_output(Corr.f_perform_fit_exp, {'f_make_pars':fixed(f_make_pars),\n",
    "         'func':func_w,'fit_range':tr, 'plt_range':pr,'num_exp':numexp_w, \n",
    "         'verbose':verbose_w,'use_prior':pr_w,'plot':plt_w})\n",
    "\n",
    "display(out,ui)"
   ]
  },
  {
   "cell_type": "code",
   "execution_count": null,
   "id": "8230d767-02b7-47d6-a068-1a75773fe882",
   "metadata": {},
   "outputs": [],
   "source": [
    "# Corr.f_perform_fit_exp(f_make_pars,f_multi_exp2,np.arange(6,24),[0,32],1,0,False,True) # l=0,1,2,3"
   ]
  },
  {
   "cell_type": "code",
   "execution_count": null,
   "id": "7ca1eb79-a71f-4f91-b66e-360bc26988b0",
   "metadata": {},
   "outputs": [],
   "source": []
  }
 ],
 "metadata": {
  "kernelspec": {
   "display_name": "v3",
   "language": "python",
   "name": "vpy39"
  },
  "language_info": {
   "codemirror_mode": {
    "name": "ipython",
    "version": 3
   },
   "file_extension": ".py",
   "mimetype": "text/x-python",
   "name": "python",
   "nbconvert_exporter": "python",
   "pygments_lexer": "ipython3",
   "version": "3.9.7"
  },
  "toc-autonumbering": false,
  "toc-showmarkdowntxt": false
 },
 "nbformat": 4,
 "nbformat_minor": 5
}

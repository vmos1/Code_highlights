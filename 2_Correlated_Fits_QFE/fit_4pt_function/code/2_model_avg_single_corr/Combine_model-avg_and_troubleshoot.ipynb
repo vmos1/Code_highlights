{
 "cells": [
  {
   "cell_type": "markdown",
   "id": "a276f86f-0778-4b51-ae48-3037dff8f35f",
   "metadata": {},
   "source": [
    "# Combine model avg fits\n",
    "Read fit results and combine them to give estimates for parameters\n",
    "\n",
    "Dec 28, 2022"
   ]
  },
  {
   "cell_type": "code",
   "execution_count": 12,
   "id": "9a7c2516-5d5d-40fb-a984-a683d9c802b1",
   "metadata": {},
   "outputs": [],
   "source": [
    "import numpy as np\n",
    "import pandas as pd\n",
    "import matplotlib.pyplot as plt\n",
    "\n",
    "from ipywidgets import *\n",
    "import glob \n",
    "import sys\n",
    "import pickle \n",
    "import scipy.special as sc\n",
    "# from scipy.special import logsumexp as sc.logsumexp\n",
    "\n",
    "## Import fitting modules\n",
    "import gvar as gv\n",
    "import lsqfit\n"
   ]
  },
  {
   "cell_type": "code",
   "execution_count": 13,
   "id": "0770fecf-1e55-4632-8160-70ac5cfeb524",
   "metadata": {},
   "outputs": [],
   "source": [
    "%matplotlib widget"
   ]
  },
  {
   "cell_type": "code",
   "execution_count": 15,
   "id": "ee8674fa-adba-45e4-8c17-fcb2b62f4aae",
   "metadata": {},
   "outputs": [],
   "source": [
    "from modules import *"
   ]
  },
  {
   "cell_type": "markdown",
   "id": "66d073e9-b8f5-4f79-828e-537268bba01a",
   "metadata": {},
   "source": [
    "### Load data for troubleshooting fits"
   ]
  },
  {
   "cell_type": "code",
   "execution_count": 16,
   "id": "06a6ba4f-a644-4928-90f3-c55811a7e056",
   "metadata": {},
   "outputs": [
    {
     "name": "stdout",
     "output_type": "stream",
     "text": [
      "{'4': {'2pt': 0.0112650059431, 'c': 0.2758810226094}, '8': {'2pt': 0.005591911340388, 'c': 0.1395714549742}, '16': {'2pt': 0.00279083120346, 'c': 0.06999296068404}}\n",
      "../../data/free_theory/s2xr_free_q5k4t*_4pt_pl.dat\n",
      "../../data/free_theory/s2xr_free_q5k4t64_4pt_pl.dat 4\n",
      "4 64\n",
      "../../data/free_theory/s2xr_free_q5k8t*_4pt_pl.dat\n",
      "../../data/free_theory/s2xr_free_q5k8t128_4pt_pl.dat 8\n",
      "8 128\n",
      "../../data/free_theory/s2xr_free_q5k16t*_4pt_pl.dat\n",
      "../../data/free_theory/s2xr_free_q5k16t256_4pt_pl.dat 16\n",
      "16 256\n"
     ]
    }
   ],
   "source": [
    "if __name__==\"__main__\":\n",
    "    \n",
    "    ### Set values for 2pt function and speed of light #####\n",
    "    dict_global={}\n",
    "    dict_global['4']=  {'2pt':1.126500594310e-02, 'c':2.758810226094e-01}\n",
    "    dict_global['8']=  {'2pt':5.591911340388e-03, 'c':1.395714549742e-01}\n",
    "    dict_global['16']= {'2pt':2.790831203460e-03, 'c':6.999296068404e-02}\n",
    "    print(dict_global)\n",
    "    \n",
    "    ### Load entire data ####\n",
    "    data_dict={}\n",
    "\n",
    "    s_list=[4,8,16]\n",
    "    data_dir='../../data/free_theory/'\n",
    "\n",
    "    for s in s_list:\n",
    "        \n",
    "        print(data_dir+'s2xr_free_q5k{0}t*_4pt_pl.dat'.format(s))\n",
    "        fname=glob.glob(data_dir+'s2xr_free_q5k{0}t*_4pt_pl.dat'.format(s))[0]\n",
    "        print(fname,s)\n",
    "        df,Lt=f_get_data_df(fname,dict_global)\n",
    "        data_dict[str(s)]={'df':df,'Lt':Lt}\n"
   ]
  },
  {
   "cell_type": "markdown",
   "id": "5b9abc82-0c19-42aa-b9aa-a9688df0f8ff",
   "metadata": {},
   "source": [
    "### Read stored data and average"
   ]
  },
  {
   "cell_type": "code",
   "execution_count": 17,
   "id": "f740b1cb-6197-4f81-b48a-af68a68968e5",
   "metadata": {
    "tags": []
   },
   "outputs": [
    {
     "name": "stdout",
     "output_type": "stream",
     "text": [
      "4 0\n",
      "../../data/stored_results/l0_s4.df_fits\n",
      "(6, 22)\n",
      "4 2\n",
      "../../data/stored_results/l2_s4.df_fits\n",
      "(5, 22)\n"
     ]
    },
    {
     "name": "stderr",
     "output_type": "stream",
     "text": [
      "/Users/vayyar/Desktop/work/PROJECTS/summary_git_repo/Code_highlights/2_Correlated_Fits_QFE/fit_4pt_function/code/model_avg/modules.py:432: SettingWithCopyWarning: \n",
      "A value is trying to be set on a copy of a slice from a DataFrame.\n",
      "Try using .loc[row_indexer,col_indexer] = value instead\n",
      "\n",
      "See the caveats in the documentation: https://pandas.pydata.org/pandas-docs/stable/user_guide/indexing.html#returning-a-view-versus-a-copy\n",
      "  df_fits['normed_prob']=df_fits.apply(lambda row : np.exp(row.fit_wt-S),axis=1)\n",
      "/Users/vayyar/Desktop/work/PROJECTS/summary_git_repo/Code_highlights/2_Correlated_Fits_QFE/fit_4pt_function/code/model_avg/modules.py:432: SettingWithCopyWarning: \n",
      "A value is trying to be set on a copy of a slice from a DataFrame.\n",
      "Try using .loc[row_indexer,col_indexer] = value instead\n",
      "\n",
      "See the caveats in the documentation: https://pandas.pydata.org/pandas-docs/stable/user_guide/indexing.html#returning-a-view-versus-a-copy\n",
      "  df_fits['normed_prob']=df_fits.apply(lambda row : np.exp(row.fit_wt-S),axis=1)\n"
     ]
    }
   ],
   "source": [
    "save_loc='../../data/stored_results/'\n",
    "\n",
    "s_list=[4,8,16]\n",
    "\n",
    "all_pars=[\"a{0}\".format(i) for i in range(4)]+[\"E{0}\".format(i) for i in range(4)]+['const']\n",
    "cols=['s','l']+all_pars\n",
    "df_results=pd.DataFrame(columns=cols)\n",
    "    \n",
    "    \n",
    "for s in [str(i) for i in s_list][:1]:\n",
    "    for l in [0,2,4,6][:2]:\n",
    "        print(s,l)\n",
    "        \n",
    "#         Read fits from file\n",
    "        fname=save_loc+'l{0}_s{1}.df_fits'.format(l,s)\n",
    "        print(fname)\n",
    "        df_fits=pd.read_pickle(fname)\n",
    "        \n",
    "        df_fits,df_avg=f_avg_all_models(df_fits)\n",
    "        print(df_fits.shape)\n",
    "        \n",
    "        # Store result\n",
    "        dict2=dict.fromkeys(all_pars,np.nan)\n",
    "        dict2['s']=int(s)\n",
    "        dict2['l']=l\n",
    "\n",
    "        count=0\n",
    "        pars=df_avg.columns\n",
    "        for key in pars:    dict2[key]=df_avg.loc['value',key]\n",
    "#         print(dict2)\n",
    "        df_results=pd.concat([df_results,pd.DataFrame(dict2,index=[count])])\n",
    "        count+=1"
   ]
  },
  {
   "cell_type": "markdown",
   "id": "6b58cb46-ff6e-46a7-b58b-a3d3f28d23f5",
   "metadata": {},
   "source": [
    "### View results"
   ]
  },
  {
   "cell_type": "code",
   "execution_count": 18,
   "id": "3d7b5f3f-e8a7-4773-9401-e49c8acf7036",
   "metadata": {},
   "outputs": [
    {
     "data": {
      "text/html": [
       "<div>\n",
       "<style scoped>\n",
       "    .dataframe tbody tr th:only-of-type {\n",
       "        vertical-align: middle;\n",
       "    }\n",
       "\n",
       "    .dataframe tbody tr th {\n",
       "        vertical-align: top;\n",
       "    }\n",
       "\n",
       "    .dataframe thead th {\n",
       "        text-align: right;\n",
       "    }\n",
       "</style>\n",
       "<table border=\"1\" class=\"dataframe\">\n",
       "  <thead>\n",
       "    <tr style=\"text-align: right;\">\n",
       "      <th></th>\n",
       "      <th>s</th>\n",
       "      <th>l</th>\n",
       "      <th>a0</th>\n",
       "      <th>a1</th>\n",
       "      <th>a2</th>\n",
       "      <th>a3</th>\n",
       "      <th>E0</th>\n",
       "      <th>E1</th>\n",
       "      <th>E2</th>\n",
       "      <th>E3</th>\n",
       "      <th>const</th>\n",
       "    </tr>\n",
       "  </thead>\n",
       "  <tbody>\n",
       "    <tr>\n",
       "      <th>0</th>\n",
       "      <td>4</td>\n",
       "      <td>0</td>\n",
       "      <td>7.8559(17)</td>\n",
       "      <td>2.72(54)</td>\n",
       "      <td>3.1(4.2)</td>\n",
       "      <td>NaN</td>\n",
       "      <td>0.999224(45)</td>\n",
       "      <td>3.016(93)</td>\n",
       "      <td>6.0(3.1)</td>\n",
       "      <td>NaN</td>\n",
       "      <td>0.00231855(62)</td>\n",
       "    </tr>\n",
       "    <tr>\n",
       "      <th>0</th>\n",
       "      <td>4</td>\n",
       "      <td>2</td>\n",
       "      <td>0.000490(23)</td>\n",
       "      <td>4.0068(48)</td>\n",
       "      <td>1.47(39)</td>\n",
       "      <td>NaN</td>\n",
       "      <td>1.9382(58)</td>\n",
       "      <td>2.93787(30)</td>\n",
       "      <td>4.68(17)</td>\n",
       "      <td>NaN</td>\n",
       "      <td>7.91(28)e-12</td>\n",
       "    </tr>\n",
       "  </tbody>\n",
       "</table>\n",
       "</div>"
      ],
      "text/plain": [
       "   s  l            a0          a1        a2   a3            E0           E1  \\\n",
       "0  4  0    7.8559(17)    2.72(54)  3.1(4.2)  NaN  0.999224(45)    3.016(93)   \n",
       "0  4  2  0.000490(23)  4.0068(48)  1.47(39)  NaN    1.9382(58)  2.93787(30)   \n",
       "\n",
       "         E2   E3           const  \n",
       "0  6.0(3.1)  NaN  0.00231855(62)  \n",
       "0  4.68(17)  NaN    7.91(28)e-12  "
      ]
     },
     "execution_count": 18,
     "metadata": {},
     "output_type": "execute_result"
    }
   ],
   "source": [
    "df_results.sort_values(by=['l','s'])\n"
   ]
  },
  {
   "cell_type": "markdown",
   "id": "0f9a98d8-a3ef-44eb-8db6-3abaa199ff62",
   "metadata": {},
   "source": [
    "## Troubleshooting "
   ]
  },
  {
   "cell_type": "markdown",
   "id": "c5ab1c44-7f81-4ea3-bcd2-b1b0979db407",
   "metadata": {},
   "source": [
    "### View fits dataframe"
   ]
  },
  {
   "cell_type": "code",
   "execution_count": 19,
   "id": "8cb1d749-c81a-4f1a-a3f1-6697739378fc",
   "metadata": {},
   "outputs": [
    {
     "name": "stdout",
     "output_type": "stream",
     "text": [
      "4 0\n"
     ]
    }
   ],
   "source": [
    "s=4;l=0\n",
    "print(s,l)\n",
    "fname=save_loc+'l{0}_s{1}.df_fits'.format(l,s)\n",
    "df_fits=pd.read_pickle(fname)"
   ]
  },
  {
   "cell_type": "code",
   "execution_count": 11,
   "id": "70b76529-6d22-44e1-800b-34d4393d7c7f",
   "metadata": {},
   "outputs": [
    {
     "ename": "KeyError",
     "evalue": "\"['a3', 'E3'] not in index\"",
     "output_type": "error",
     "traceback": [
      "\u001b[0;31m---------------------------------------------------------------------------\u001b[0m",
      "\u001b[0;31mKeyError\u001b[0m                                  Traceback (most recent call last)",
      "\u001b[0;32m/var/folders/h9/cwkrp27n277dc6nk95nhr9bm0000gn/T/ipykernel_17465/1482970066.py\u001b[0m in \u001b[0;36m<module>\u001b[0;34m\u001b[0m\n\u001b[1;32m      1\u001b[0m \u001b[0msub_cols\u001b[0m\u001b[0;34m=\u001b[0m\u001b[0;34m[\u001b[0m\u001b[0;34m'name'\u001b[0m\u001b[0;34m,\u001b[0m\u001b[0;34m'chi2_dof'\u001b[0m\u001b[0;34m,\u001b[0m\u001b[0;34m'fit_wt'\u001b[0m\u001b[0;34m,\u001b[0m\u001b[0;34m'num_exp'\u001b[0m\u001b[0;34m,\u001b[0m\u001b[0;34m'a0'\u001b[0m\u001b[0;34m,\u001b[0m\u001b[0;34m'a1'\u001b[0m\u001b[0;34m,\u001b[0m\u001b[0;34m'a2'\u001b[0m\u001b[0;34m,\u001b[0m\u001b[0;34m'a3'\u001b[0m\u001b[0;34m,\u001b[0m\u001b[0;34m'E0'\u001b[0m\u001b[0;34m,\u001b[0m\u001b[0;34m'E1'\u001b[0m\u001b[0;34m,\u001b[0m\u001b[0;34m'E2'\u001b[0m\u001b[0;34m,\u001b[0m\u001b[0;34m'E3'\u001b[0m\u001b[0;34m]\u001b[0m\u001b[0;34m\u001b[0m\u001b[0;34m\u001b[0m\u001b[0m\n\u001b[0;32m----> 2\u001b[0;31m \u001b[0mdf_fits\u001b[0m\u001b[0;34m[\u001b[0m\u001b[0msub_cols\u001b[0m\u001b[0;34m]\u001b[0m\u001b[0;34m.\u001b[0m\u001b[0msort_values\u001b[0m\u001b[0;34m(\u001b[0m\u001b[0mby\u001b[0m\u001b[0;34m=\u001b[0m\u001b[0;34m[\u001b[0m\u001b[0;34m'fit_wt'\u001b[0m\u001b[0;34m]\u001b[0m\u001b[0;34m,\u001b[0m\u001b[0mascending\u001b[0m\u001b[0;34m=\u001b[0m\u001b[0;32mFalse\u001b[0m\u001b[0;34m)\u001b[0m\u001b[0;34m.\u001b[0m\u001b[0mhead\u001b[0m\u001b[0;34m(\u001b[0m\u001b[0;36m15\u001b[0m\u001b[0;34m)\u001b[0m\u001b[0;34m\u001b[0m\u001b[0;34m\u001b[0m\u001b[0m\n\u001b[0m",
      "\u001b[0;32m/opt/anaconda3/envs/v3/lib/python3.9/site-packages/pandas/core/frame.py\u001b[0m in \u001b[0;36m__getitem__\u001b[0;34m(self, key)\u001b[0m\n\u001b[1;32m   3462\u001b[0m             \u001b[0;32mif\u001b[0m \u001b[0mis_iterator\u001b[0m\u001b[0;34m(\u001b[0m\u001b[0mkey\u001b[0m\u001b[0;34m)\u001b[0m\u001b[0;34m:\u001b[0m\u001b[0;34m\u001b[0m\u001b[0;34m\u001b[0m\u001b[0m\n\u001b[1;32m   3463\u001b[0m                 \u001b[0mkey\u001b[0m \u001b[0;34m=\u001b[0m \u001b[0mlist\u001b[0m\u001b[0;34m(\u001b[0m\u001b[0mkey\u001b[0m\u001b[0;34m)\u001b[0m\u001b[0;34m\u001b[0m\u001b[0;34m\u001b[0m\u001b[0m\n\u001b[0;32m-> 3464\u001b[0;31m             \u001b[0mindexer\u001b[0m \u001b[0;34m=\u001b[0m \u001b[0mself\u001b[0m\u001b[0;34m.\u001b[0m\u001b[0mloc\u001b[0m\u001b[0;34m.\u001b[0m\u001b[0m_get_listlike_indexer\u001b[0m\u001b[0;34m(\u001b[0m\u001b[0mkey\u001b[0m\u001b[0;34m,\u001b[0m \u001b[0maxis\u001b[0m\u001b[0;34m=\u001b[0m\u001b[0;36m1\u001b[0m\u001b[0;34m)\u001b[0m\u001b[0;34m[\u001b[0m\u001b[0;36m1\u001b[0m\u001b[0;34m]\u001b[0m\u001b[0;34m\u001b[0m\u001b[0;34m\u001b[0m\u001b[0m\n\u001b[0m\u001b[1;32m   3465\u001b[0m \u001b[0;34m\u001b[0m\u001b[0m\n\u001b[1;32m   3466\u001b[0m         \u001b[0;31m# take() does not accept boolean indexers\u001b[0m\u001b[0;34m\u001b[0m\u001b[0;34m\u001b[0m\u001b[0m\n",
      "\u001b[0;32m/opt/anaconda3/envs/v3/lib/python3.9/site-packages/pandas/core/indexing.py\u001b[0m in \u001b[0;36m_get_listlike_indexer\u001b[0;34m(self, key, axis)\u001b[0m\n\u001b[1;32m   1312\u001b[0m             \u001b[0mkeyarr\u001b[0m\u001b[0;34m,\u001b[0m \u001b[0mindexer\u001b[0m\u001b[0;34m,\u001b[0m \u001b[0mnew_indexer\u001b[0m \u001b[0;34m=\u001b[0m \u001b[0max\u001b[0m\u001b[0;34m.\u001b[0m\u001b[0m_reindex_non_unique\u001b[0m\u001b[0;34m(\u001b[0m\u001b[0mkeyarr\u001b[0m\u001b[0;34m)\u001b[0m\u001b[0;34m\u001b[0m\u001b[0;34m\u001b[0m\u001b[0m\n\u001b[1;32m   1313\u001b[0m \u001b[0;34m\u001b[0m\u001b[0m\n\u001b[0;32m-> 1314\u001b[0;31m         \u001b[0mself\u001b[0m\u001b[0;34m.\u001b[0m\u001b[0m_validate_read_indexer\u001b[0m\u001b[0;34m(\u001b[0m\u001b[0mkeyarr\u001b[0m\u001b[0;34m,\u001b[0m \u001b[0mindexer\u001b[0m\u001b[0;34m,\u001b[0m \u001b[0maxis\u001b[0m\u001b[0;34m)\u001b[0m\u001b[0;34m\u001b[0m\u001b[0;34m\u001b[0m\u001b[0m\n\u001b[0m\u001b[1;32m   1315\u001b[0m \u001b[0;34m\u001b[0m\u001b[0m\n\u001b[1;32m   1316\u001b[0m         if needs_i8_conversion(ax.dtype) or isinstance(\n",
      "\u001b[0;32m/opt/anaconda3/envs/v3/lib/python3.9/site-packages/pandas/core/indexing.py\u001b[0m in \u001b[0;36m_validate_read_indexer\u001b[0;34m(self, key, indexer, axis)\u001b[0m\n\u001b[1;32m   1375\u001b[0m \u001b[0;34m\u001b[0m\u001b[0m\n\u001b[1;32m   1376\u001b[0m             \u001b[0mnot_found\u001b[0m \u001b[0;34m=\u001b[0m \u001b[0mlist\u001b[0m\u001b[0;34m(\u001b[0m\u001b[0mensure_index\u001b[0m\u001b[0;34m(\u001b[0m\u001b[0mkey\u001b[0m\u001b[0;34m)\u001b[0m\u001b[0;34m[\u001b[0m\u001b[0mmissing_mask\u001b[0m\u001b[0;34m.\u001b[0m\u001b[0mnonzero\u001b[0m\u001b[0;34m(\u001b[0m\u001b[0;34m)\u001b[0m\u001b[0;34m[\u001b[0m\u001b[0;36m0\u001b[0m\u001b[0;34m]\u001b[0m\u001b[0;34m]\u001b[0m\u001b[0;34m.\u001b[0m\u001b[0munique\u001b[0m\u001b[0;34m(\u001b[0m\u001b[0;34m)\u001b[0m\u001b[0;34m)\u001b[0m\u001b[0;34m\u001b[0m\u001b[0;34m\u001b[0m\u001b[0m\n\u001b[0;32m-> 1377\u001b[0;31m             \u001b[0;32mraise\u001b[0m \u001b[0mKeyError\u001b[0m\u001b[0;34m(\u001b[0m\u001b[0;34mf\"{not_found} not in index\"\u001b[0m\u001b[0;34m)\u001b[0m\u001b[0;34m\u001b[0m\u001b[0;34m\u001b[0m\u001b[0m\n\u001b[0m\u001b[1;32m   1378\u001b[0m \u001b[0;34m\u001b[0m\u001b[0m\n\u001b[1;32m   1379\u001b[0m \u001b[0;34m\u001b[0m\u001b[0m\n",
      "\u001b[0;31mKeyError\u001b[0m: \"['a3', 'E3'] not in index\""
     ]
    }
   ],
   "source": [
    "sub_cols=['name','chi2_dof','fit_wt','num_exp','a0','a1','a2','a3','E0','E1','E2','E3']\n",
    "df_fits[sub_cols].sort_values(by=['fit_wt'],ascending=False).head(15)"
   ]
  },
  {
   "cell_type": "code",
   "execution_count": 18,
   "id": "50506ec9-c130-4e12-a036-1abb16082055",
   "metadata": {
    "tags": []
   },
   "outputs": [],
   "source": [
    "# df_fits.sort_values(by=['chi2_dof'],ascending=True)"
   ]
  },
  {
   "cell_type": "markdown",
   "id": "edfaa07c-8f44-4453-b087-fe9eb8bf4519",
   "metadata": {},
   "source": [
    "### Perform fit for specific trange"
   ]
  },
  {
   "cell_type": "code",
   "execution_count": 29,
   "id": "b7a72326-3b34-4ad4-b04b-d33f7eca8be0",
   "metadata": {},
   "outputs": [],
   "source": [
    "s='16';l=6\n",
    "df_temp=data_dict[s]['df']\n",
    "Lt=data_dict[s]['Lt']\n",
    "df_temp=df_temp[df_temp.l==l][['t','coeff']]\n",
    "\n",
    "Corr=corr(df=df_temp,l=l,c=dict_global[str(s)]['c'],s=s,Lt=Lt)"
   ]
  },
  {
   "cell_type": "code",
   "execution_count": 30,
   "id": "816e7c1c-576f-4925-b088-da4ebce90649",
   "metadata": {
    "tags": []
   },
   "outputs": [
    {
     "data": {
      "application/vnd.jupyter.widget-view+json": {
       "model_id": "7481c0ccffe34e83927fdfa6674e2963",
       "version_major": 2,
       "version_minor": 0
      },
      "text/plain": [
       "Output()"
      ]
     },
     "metadata": {},
     "output_type": "display_data"
    },
    {
     "data": {
      "application/vnd.jupyter.widget-view+json": {
       "model_id": "b346a3f49a98424a9bc26f53bbac540f",
       "version_major": 2,
       "version_minor": 0
      },
      "text/plain": [
       "HBox(children=(VBox(children=(IntRangeSlider(value=(20, 128), description='trange', max=128), IntRangeSlider(v…"
      ]
     },
     "metadata": {},
     "output_type": "display_data"
    }
   ],
   "source": [
    "tmax=int(np.max(df_temp.t.values)) # Max value of t obtained from dataframe\n",
    "\n",
    "func_w=Dropdown(options=[f_multi_exp,f_multi_exp2,f_cosh],value=f_multi_exp2,description='fit func',disabled=False)\n",
    "tr=IntRangeSlider(value=[20,tmax],min=0,max=tmax,step=1,description='trange')\n",
    "pr=IntRangeSlider(value=[0,tmax],min=0,max=tmax,step=1,description='plot range')\n",
    "pr_w=widgets.Checkbox(value=False,description='use_prior',indent=False,disabled=False)\n",
    "plt_w=Checkbox(value=True,description='plot',indent=False,disabled=False)\n",
    "numexp_w=IntSlider(value=2,min=1,max=8,step=1,description='num_exp')\n",
    "verbose_w=IntSlider(value=1,min=-1,max=2,step=1,description='verbose_w')\n",
    "\n",
    "# (self,f_make_pars,func,fit_range,plt_range,num_exp=3,verbose=0,use_prior=False,plot=True)\n",
    "\n",
    "v1=VBox([tr,pr])\n",
    "v2=VBox([numexp_w,verbose_w])\n",
    "v3=VBox([pr_w,plt_w])\n",
    "\n",
    "ui=HBox(children=[v1,func_w,v2,v3])\n",
    "        \n",
    "out=interactive_output(Corr.f_perform_fit_exp, {'f_make_pars':fixed(f_make_pars),\n",
    "         'func':func_w,'fit_range':tr, 'plt_range':pr,'num_exp':numexp_w, \n",
    "         'verbose':verbose_w,'use_prior':pr_w,'plot':plt_w})\n",
    "\n",
    "display(out,ui)"
   ]
  },
  {
   "cell_type": "code",
   "execution_count": null,
   "id": "8230d767-02b7-47d6-a068-1a75773fe882",
   "metadata": {},
   "outputs": [],
   "source": [
    "# Corr.f_perform_fit_exp(f_make_pars,f_multi_exp2,np.arange(6,24),[0,32],1,0,False,True) # l=0,1,2,3"
   ]
  },
  {
   "cell_type": "code",
   "execution_count": null,
   "id": "7ca1eb79-a71f-4f91-b66e-360bc26988b0",
   "metadata": {},
   "outputs": [],
   "source": []
  }
 ],
 "metadata": {
  "kernelspec": {
   "display_name": "v3",
   "language": "python",
   "name": "vpy39"
  },
  "language_info": {
   "codemirror_mode": {
    "name": "ipython",
    "version": 3
   },
   "file_extension": ".py",
   "mimetype": "text/x-python",
   "name": "python",
   "nbconvert_exporter": "python",
   "pygments_lexer": "ipython3",
   "version": "3.9.7"
  },
  "toc-autonumbering": false,
  "toc-showmarkdowntxt": false
 },
 "nbformat": 4,
 "nbformat_minor": 5
}

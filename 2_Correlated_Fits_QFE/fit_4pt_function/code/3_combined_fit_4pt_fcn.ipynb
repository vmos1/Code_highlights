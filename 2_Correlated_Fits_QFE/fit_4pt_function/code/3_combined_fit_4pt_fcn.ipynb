{
 "cells": [
  {
   "cell_type": "markdown",
   "id": "a276f86f-0778-4b51-ae48-3037dff8f35f",
   "metadata": {},
   "source": [
    "# Interactive combined fit of 4 correlators\n",
    "\n",
    "Interactively peform a combined fit of 4pt function with 'l' values 0,2,4,6\n",
    "\n",
    "\n",
    "Dec 27, 2022"
   ]
  },
  {
   "cell_type": "code",
   "execution_count": 1,
   "id": "9a7c2516-5d5d-40fb-a984-a683d9c802b1",
   "metadata": {},
   "outputs": [],
   "source": [
    "import numpy as np\n",
    "import pandas as pd\n",
    "import matplotlib.pyplot as plt\n",
    "\n",
    "from ipywidgets import *\n",
    "import glob \n",
    "import sys\n",
    "import pickle \n",
    "import scipy.special as sc\n",
    "# from scipy.special import logsumexp as sc.logsumexp\n",
    "\n",
    "## Import fitting modules\n",
    "import gvar as gv\n",
    "import lsqfit\n"
   ]
  },
  {
   "cell_type": "code",
   "execution_count": 2,
   "id": "0770fecf-1e55-4632-8160-70ac5cfeb524",
   "metadata": {},
   "outputs": [],
   "source": [
    "%matplotlib widget"
   ]
  },
  {
   "cell_type": "markdown",
   "id": "a3775567-8e19-4745-bffd-e28fdac33e15",
   "metadata": {},
   "source": [
    "## Modules"
   ]
  },
  {
   "cell_type": "code",
   "execution_count": 3,
   "id": "1ba0a33f-6c06-4b78-bfb2-3b458d5974c7",
   "metadata": {},
   "outputs": [],
   "source": [
    "def f_scale_4pt(row,s):\n",
    "    a1=row['coeff']/(dict_global[str(s)]['2pt']**2) # divide by phi_2pt ^ 2 \n",
    "    return a1\n",
    "\n",
    "def f_get_data_df(fname):\n",
    "\n",
    "    arr=np.loadtxt(fname)\n",
    "\n",
    "    ## Extract values from file name\n",
    "    s=int(fname.split('/')[-1].split('_')[2].split('k')[-1].split('t')[0])\n",
    "    Lt=int(fname.split('/')[-1].split('_')[2].split('k')[-1].split('t')[-1])\n",
    "    \n",
    "    print(s,Lt)\n",
    "    Nsites=10*(s**2)+2\n",
    "    # c=dict_global[str(s)]['c']\n",
    "\n",
    "    ### Gather data from file\n",
    "    cols=['l','t','coeff']\n",
    "    df_data=pd.DataFrame(arr,columns=cols)\n",
    "\n",
    "    ### Process data\n",
    "    # df_data.apply(lambda row: f_scale_4pt(row,s),axis=1)\n",
    "    df_data['coeff']=df_data.apply(lambda row: f_scale_4pt(row,s),axis=1)\n",
    "    df_data.loc[df_data.l==0,['coeff']]-=1 ## subtract out the 1 for l=0\n",
    "    \n",
    "    # df_data['coeff']=np.array([gv.gvar(i,i*0.01) for i in df_data.coeff.values])\n",
    "    df_data['coeff']=np.array([gv.gvar(i,max(i*1e-4,1e-13)) for i in df_data.coeff.values]) # Ensure error doesn't go below machine precision\n",
    "    \n",
    "\n",
    "    return df_data,Lt\n"
   ]
  },
  {
   "cell_type": "markdown",
   "id": "7207979d-b63b-4d60-8614-14f034a176f3",
   "metadata": {},
   "source": [
    "### Class definition"
   ]
  },
  {
   "cell_type": "code",
   "execution_count": 4,
   "id": "8c448f48-0d22-4e3f-b338-f46afee3edde",
   "metadata": {},
   "outputs": [],
   "source": [
    "class corr:\n",
    "    ''' Class to store correlators C(t) for specific s'''\n",
    "    def __init__(self,df1,df2,df3,df4,c,s,Lt):\n",
    "        self.df1=df1\n",
    "        self.df2=df2\n",
    "        self.df3=df3\n",
    "        self.df4=df4\n",
    "        \n",
    "        self.c=c\n",
    "        self.s=s\n",
    "        self.Lt=Lt\n",
    "        \n",
    "        self.x_full=None\n",
    "        self.y_full=None\n",
    "        \n",
    "        self.fit=None\n",
    "        \n",
    "    def f_perform_fit_exp(self,f_make_pars,func,fit_range1,fit_range2,fit_range3, fit_range4, plt_range,num_exp=3,verbose=0,use_prior=False,plot=True):\n",
    "              \n",
    "        ## Define x and y for object for full plot range (Used only for fit)\n",
    "        self.x_full={'t1':self.df1.t.values[min(plt_range):max(plt_range)+1],\n",
    "                     't2':self.df2.t.values[min(plt_range):max(plt_range)+1],\n",
    "                     't3':self.df3.t.values[min(plt_range):max(plt_range)+1],\n",
    "                     't4':self.df4.t.values[min(plt_range):max(plt_range)+1],\n",
    "                     'nterms':num_exp,'c':self.c,'Lt':self.Lt}\n",
    "        \n",
    "        self.y_full={'y1': self.df1.coeff.values[min(plt_range):max(plt_range)+1],\n",
    "                     'y2': self.df2.coeff.values[min(plt_range):max(plt_range)+1],\n",
    "                     'y3': self.df3.coeff.values[min(plt_range):max(plt_range)+1], \n",
    "                     'y4': self.df4.coeff.values[min(plt_range):max(plt_range)+1] }\n",
    "        \n",
    "        x=self.x_full.copy();\n",
    "        x['t1']=x['t1'][min(fit_range1):max(fit_range1)+1]\n",
    "        x['t2']=x['t2'][min(fit_range2):max(fit_range2)+1]\n",
    "        x['t3']=x['t3'][min(fit_range3):max(fit_range3)+1]\n",
    "        x['t4']=x['t4'][min(fit_range4):max(fit_range4)+1]\n",
    "        \n",
    "        y1=self.y_full['y1'][min(fit_range1):max(fit_range1)+1]\n",
    "        y2=self.y_full['y2'][min(fit_range2):max(fit_range2)+1]\n",
    "        y3=self.y_full['y3'][min(fit_range3):max(fit_range3)+1]\n",
    "        y4=self.y_full['y4'][min(fit_range4):max(fit_range4)+1]\n",
    "        \n",
    "        y={'y1':y1, 'y2':y2, 'y3':y3, 'y4':y4}\n",
    "                \n",
    "        ### Create parameters dictionary: if prior gives gvars\n",
    "        p0=f_make_pars(num_exp,use_prior)\n",
    "        \n",
    "#         print(x,y)\n",
    "        if use_prior:\n",
    "            self.fit = lsqfit.nonlinear_fit(data=(x,y), prior=p0, fcn=func)\n",
    "        else: \n",
    "            self.fit = lsqfit.nonlinear_fit(data=(x,y), p0=p0, fcn=func)\n",
    "        \n",
    "        ### Print fit details before plot\n",
    "        if verbose==2: print(self.fit.format(maxline=True))\n",
    "        elif verbose: print(self.fit.format(maxline=verbose))\n",
    "        \n",
    "        if plot: self.f_fit_plot(min(plt_range),max(plt_range),error_band=True,semilog=True)\n",
    "        \n",
    "        # Print description at the end\n",
    "        if verbose:\n",
    "            for k in self.fit.p.keys():\n",
    "                if not use_prior:\n",
    "                    print(k,'\\tInit',self.fit.p0[k],'\\t---Final',self.fit.p[k])\n",
    "                else : \n",
    "                    print(k,'\\tInit',self.fit.prior[k],'\\t---Final',self.fit.p[k])    \n",
    "\n",
    "            print(\"\\nchi-sqr\",self.fit.chi2/self.fit.dof)\n",
    "\n",
    "        \n",
    "    def f_fit_plot(self,start=0,end=None,error_band=True,semilog=True):\n",
    "        '''\n",
    "        Function for plotting data with the fit lines and error bands.\n",
    "        For correlators, using a semi-log plot.\n",
    "        error_band=True, plots a band in the full region\n",
    "        '''\n",
    "        \n",
    "        \n",
    "        ## Create y_predictions for fit function\n",
    "        x=self.x_full; y=self.y_full\n",
    "        curve_t={}\n",
    "        curve_x=self.x_full.copy()\n",
    "        \n",
    "        num_corrs=4\n",
    "        for i in range(1,num_corrs+1):\n",
    "            key_t='t%s'%(i)            \n",
    "            curve_t[key_t]=np.linspace(min(x[key_t]),max(x[key_t]),500)\n",
    "            curve_x[key_t]=curve_t[key_t]; ## Modify curve_x['ts'] to the range required\n",
    "        \n",
    "        \n",
    "        curve_y=self.fit.fcn(curve_x,self.fit.p)\n",
    "        \n",
    "        obs_fit=gv.mean(curve_y)\n",
    "        err_fit=gv.sdev(curve_y)\n",
    "        sigma=2.0 # Width for band\n",
    "\n",
    "        #### Plots\n",
    "        fig=plt.figure(figsize=(12,4))\n",
    "        plt.title(\"Plot\")\n",
    "\n",
    "        plt.xticks([])\n",
    "        plt.yticks([])\n",
    "        \n",
    "        for i in range(1,num_corrs+1):\n",
    "            key_t='t%s'%(i)\n",
    "            key_y='y%s'%(i)\n",
    "            \n",
    "            fig.add_subplot(2,2,i)\n",
    "        \n",
    "            # Plot all data points\n",
    "            x=self.x_full; y=self.y_full\n",
    "            plt.errorbar(x[key_t],y=gv.mean(y[key_y]),yerr=gv.sdev(y[key_y]),linestyle='None',color='black',marker='*',markersize=4)\n",
    "\n",
    "            # Plot the best fit line\n",
    "            plt.plot(curve_t[key_t],obs_fit[key_y],color='blue')\n",
    "\n",
    "            if error_band: # Plot an error band around the best fit line\n",
    "                plt.fill_between(curve_t[key_t],obs_fit[key_y]-sigma*err_fit[key_y],obs_fit[key_y]+sigma*err_fit[key_y],color='yellow')\n",
    "\n",
    "            ## Plot data points used in fit with different color\n",
    "            x=self.fit.x; y=self.fit.y\n",
    "            plt.errorbar(x[key_t],y=gv.mean(y[key_y]),yerr=gv.sdev(y[key_y]),linestyle='None',color='red',marker='H',markersize=5)    \n",
    "\n",
    "            if semilog: plt.yscale('log')\n",
    "            plt.ylabel('C_{0}(t)'.format(2*(i-1)))\n",
    "            plt.xlabel('t')\n",
    "            \n",
    "        plt.tight_layout()\n",
    "        plt.show()"
   ]
  },
  {
   "cell_type": "markdown",
   "id": "60fdc613-d7ba-435c-a08d-2dba26a2759c",
   "metadata": {},
   "source": [
    "### Fit functions"
   ]
  },
  {
   "cell_type": "code",
   "execution_count": 5,
   "id": "4a3e9b12-88d0-4296-96b9-284cba4a79fd",
   "metadata": {
    "tags": []
   },
   "outputs": [],
   "source": [
    "def f_multi_exp2(x,p):\n",
    "    '''\n",
    "    l -> exponents\n",
    "    0 -> 1, 3, 5, 7\n",
    "    2 -> 2(wrap), 3, 5, 7\n",
    "    4 -> 3(SB), 5, 7, 9\n",
    "    6 -> 1(SB), 3(SB), 6(wrap), 7, 9\n",
    "    \n",
    "    Eqn form: \n",
    "    \n",
    "    y1= a11 * E1       + a12 * E3   + a13 * E5      + a14 * E7\n",
    "    \n",
    "    y2= a21 * E2       + a22 * E3   + a23 * E5      + a24 * E7\n",
    "    \n",
    "    y3= a31 * E3       + a32 * E5   + a33 * E7      + a34 * E9\n",
    "    \n",
    "    y4= a41 * E1       + a42 * E3   + a43 * E6      + a44 * E7\n",
    "    \n",
    "    E2=E3-E1\n",
    "    E6=E7-E1\n",
    "    E4=E5-E1\n",
    "    \n",
    "    l=4 might have a 4\n",
    "    '''\n",
    "    \n",
    "    t1=x['t1']\n",
    "    t2=x['t2']\n",
    "    t3=x['t3']\n",
    "    t4=x['t4']\n",
    "    \n",
    "    num_exp=x['nterms']\n",
    "    c=x['c']\n",
    "    Lt=x['Lt']\n",
    "    g=1\n",
    "    \n",
    "    y3=0\n",
    "    y2=0\n",
    "    \n",
    "    y1=p['const1']\n",
    "#     y2=p['const2']\n",
    "#     y3=p['const3']\n",
    "    y4=p['const4']\n",
    "    \n",
    "    if num_exp>0:\n",
    "        y1+=p['a11']*( np.exp(-p['E1']*g*c*t1) + np.exp(-p['E1']*g*c*(Lt-t1)) )\n",
    "        y4+=p['a41']*( np.exp(-p['E1']*g*c*t4) + np.exp(-p['E1']*g*c*(Lt-t4)) )\n",
    "    \n",
    "    if num_exp>1:\n",
    "        y1+=p['a12']*( np.exp(-p['E3']*g*c*t1) + np.exp(-p['E3']*g*c*(Lt-t1)) )\n",
    "        \n",
    "        y2+=p['a21']*( np.exp(-p['E2']*g*c*t2) + np.exp(-p['E2']*g*c*(Lt-t2)) )\n",
    "        y2+=p['a22']*( np.exp(-p['E3']*g*c*t2) + np.exp(-p['E3']*g*c*(Lt-t2)) )\n",
    "        \n",
    "        y3+=p['a31']*( np.exp(-p['E3']*g*c*t3) + np.exp(-p['E3']*g*c*(Lt-t3)) )\n",
    "        y4+=p['a42']*( np.exp(-p['E3']*g*c*t4) + np.exp(-p['E3']*g*c*(Lt-t4)) )\n",
    "    \n",
    "    if num_exp>2:\n",
    "        y1+=p['a13']*( np.exp(-p['E5']*g*c*t1) + np.exp(-p['E5']*g*c*(Lt-t1)) )\n",
    "        y2+=p['a23']*( np.exp(-p['E5']*g*c*t2) + np.exp(-p['E5']*g*c*(Lt-t2)) )\n",
    "        y3+=p['a32']*( np.exp(-p['E5']*g*c*t3) + np.exp(-p['E5']*g*c*(Lt-t3)) )\n",
    "#         y4+=p['a43']*( np.exp(-(p['E7']-p['E1'])*g*c*t4) + np.exp(-(p['E7']-p['E1'])*g*c*(Lt-t4)) )\n",
    "\n",
    "    if num_exp>3:\n",
    "        y1+=p['a14']*( np.exp(-p['E7']*g*c*t1) + np.exp(-p['E7']*g*c*(Lt-t1)) )\n",
    "        y2+=p['a24']*( np.exp(-p['E7']*g*c*t2) + np.exp(-p['E7']*g*c*(Lt-t2)) )\n",
    "\n",
    "        y3+=p['a33']*( np.exp(-p['E7']*g*c*t3) + np.exp(-p['E7']*g*c*(Lt-t3)) )\n",
    "    \n",
    "        y4+=p['a43']*( np.exp(-p['E6']*g*c*t4) + np.exp(-p['E6'])*g*c*(Lt-t4) )\n",
    "        y4+=p['a44']*( np.exp(-p['E7']*g*c*t4) + np.exp(-p['E7']*g*c*(Lt-t4)) )\n",
    "\n",
    "    if num_exp>4 :\n",
    "        raise SystemError\n",
    "        \n",
    "    return {'y1':y1,'y2':y2, 'y3':y3, 'y4':y4}\n"
   ]
  },
  {
   "cell_type": "markdown",
   "id": "946bef0c-0ee1-49dc-9681-12b6e71079ce",
   "metadata": {},
   "source": [
    "\n",
    "n_exp = 1 : a11, a41\n",
    "    \n",
    "n_exp = 2 : a11,a12, a21,a22, a31, a41,a42\n",
    "    \n",
    "n_exp = 3 : a11,a12,a13, a21,a22,a23, a31,a32, a41,a42\n",
    "    \n",
    "n_exp = 4 : a11,a12,a13,a14, a21,a22,a23,a24, a31,a32,a33, a41,a42,a43,a44\n"
   ]
  },
  {
   "cell_type": "markdown",
   "id": "aa3951ff-7d68-4555-a37f-2151d0166183",
   "metadata": {},
   "source": [
    "### Make parameter dict"
   ]
  },
  {
   "cell_type": "code",
   "execution_count": 6,
   "id": "719f3e2b-b305-4965-bba4-ddb336237499",
   "metadata": {
    "tags": []
   },
   "outputs": [],
   "source": [
    "def f_make_pars(num_exp,use_prior):\n",
    "    \n",
    "    par_dict={}\n",
    "    par_dict = gv.BufferDict()         # any dictionary works\n",
    "    \n",
    "    if num_exp==1:\n",
    "        vals_a=[1,1e-4]; vals_e=[1]\n",
    "    elif num_exp==2: \n",
    "        vals_a=[1,1e4,1e-4,1,1e-4,1e-4,1e-4]; vals_e=[1,2,3]\n",
    "    elif num_exp==3:\n",
    "        vals_a=[1,1,1,1e-4,1,1,1e-4,1e-4,1e-4,1e-4]; vals_e=[1,2,3,5]\n",
    "    elif num_exp==4:\n",
    "        vals_a=[1,1,1,1, 1e-4,1,1,1, 1e-4,1e-4,1, 1e-4,1e-4,1e-4,1]; vals_e=[1,2,3,5,6,7]\n",
    "    \n",
    "    \n",
    "    e_par_list=[['E1'],['E1','E2','E3'],['E1','E2','E3','E5'],['E1','E2','E3','E5','E6','E7']]\n",
    "    keys_e=e_par_list[num_exp-1] # Pick element of above list\n",
    "    \n",
    "    a_par_list=[['a11','a41'],['a11','a12','a21','a22','a31','a41','a42'],\n",
    "                ['a11','a12','a13','a21','a22','a23','a31','a32','a41','a42'],\n",
    "                ['a11','a12','a13','a14','a21','a22','a23','a24','a31','a32','a33', 'a41','a42','a43','a44'] ]\n",
    "    keys_a=a_par_list[num_exp-1] # Pick element of above list\n",
    "    \n",
    "    num_corrs=4\n",
    "    \n",
    "    \n",
    "    w_factor = 0.3 # fraction of uncertainty for prior\n",
    "    \n",
    "    for count,key in enumerate(keys_e):\n",
    "        if use_prior: \n",
    "            par_dict[key]=gv.gvar(vals_e[count],vals_e[count]*w_factor)\n",
    "        else : \n",
    "            par_dict[key]=vals_e[count]\n",
    "    \n",
    "    for count,key in enumerate(keys_a):\n",
    "        if use_prior: \n",
    "            par_dict[key]=gv.gvar(vals_a[count],vals_a[count]*w_factor)\n",
    "        else : \n",
    "            par_dict[key]=vals_a[count]\n",
    "\n",
    "    par_dict['const1']=1\n",
    "#     par_dict['const2']=1\n",
    "#     par_dict['const3']=1\n",
    "    par_dict['const4']=1\n",
    "    \n",
    "    return par_dict\n",
    "\n",
    "# f_make_pars(3,True)"
   ]
  },
  {
   "cell_type": "markdown",
   "id": "a1108890-dc9f-4d3c-8b13-03eb13d3d338",
   "metadata": {},
   "source": [
    "## Load data"
   ]
  },
  {
   "cell_type": "code",
   "execution_count": 7,
   "id": "65059feb-340a-49bd-b91c-1a8a52eb74de",
   "metadata": {},
   "outputs": [
    {
     "data": {
      "text/plain": [
       "{'4': {'2pt': 0.0112650059431, 'c': 0.2758810226094},\n",
       " '8': {'2pt': 0.005591911340388, 'c': 0.1395714549742},\n",
       " '16': {'2pt': 0.00279083120346, 'c': 0.06999296068404}}"
      ]
     },
     "execution_count": 7,
     "metadata": {},
     "output_type": "execute_result"
    }
   ],
   "source": [
    "dict_global={}\n",
    "data_dict={}\n",
    "dict_global['4']=  {'2pt':1.126500594310e-02, 'c':2.758810226094e-01}\n",
    "dict_global['8']=  {'2pt':5.591911340388e-03, 'c':1.395714549742e-01}\n",
    "dict_global['16']= {'2pt':2.790831203460e-03, 'c':6.999296068404e-02}\n",
    "dict_global"
   ]
  },
  {
   "cell_type": "code",
   "execution_count": 8,
   "id": "484bdc9c-f29f-4cc0-92e3-b754e42e5371",
   "metadata": {},
   "outputs": [
    {
     "name": "stdout",
     "output_type": "stream",
     "text": [
      "../data/free_theory/s2xr_free_q5k4t*_4pt_pl.dat\n",
      "../data/free_theory/s2xr_free_q5k4t64_4pt_pl.dat 4\n",
      "4 64\n",
      "../data/free_theory/s2xr_free_q5k8t*_4pt_pl.dat\n",
      "../data/free_theory/s2xr_free_q5k8t128_4pt_pl.dat 8\n",
      "8 128\n",
      "../data/free_theory/s2xr_free_q5k16t*_4pt_pl.dat\n",
      "../data/free_theory/s2xr_free_q5k16t256_4pt_pl.dat 16\n",
      "16 256\n"
     ]
    }
   ],
   "source": [
    "data_dir='../data/free_theory/'\n",
    "\n",
    "s_list=[4,8,16]\n",
    "for s in s_list:\n",
    "    print(data_dir+'s2xr_free_q5k{0}t*_4pt_pl.dat'.format(s))\n",
    "    fname=glob.glob(data_dir+'s2xr_free_q5k{0}t*_4pt_pl.dat'.format(s))[0]\n",
    "    print(fname,s)\n",
    "    df,Lt=f_get_data_df(fname)\n",
    "    data_dict[str(s)]={'df':df,'Lt':Lt}"
   ]
  },
  {
   "cell_type": "markdown",
   "id": "fbe13b08-0287-4fab-a968-9fbf98ca2899",
   "metadata": {},
   "source": [
    "$$ \\frac{\\langle \\phi_4 \\rangle }{ \\langle \\phi_2^2 \\rangle} = \\sum_{l,\\Delta} A_{l,\\Delta} \\cosh\\left[c \\ (\\Delta + l ) (t-T/2) \\right] $$"
   ]
  },
  {
   "cell_type": "markdown",
   "id": "32d14d2a-6401-44e2-a48d-0fe1af0c9b64",
   "metadata": {},
   "source": [
    "### Create object"
   ]
  },
  {
   "cell_type": "code",
   "execution_count": 9,
   "id": "c6697d99-c75c-46f9-9e59-69c86753d8fb",
   "metadata": {},
   "outputs": [],
   "source": [
    "s=16\n",
    "df_temp=data_dict[str(s)]['df']\n",
    "df1=df_temp[df_temp.l==0]\n",
    "df2=df_temp[df_temp.l==2]\n",
    "df3=df_temp[df_temp.l==4]\n",
    "df4=df_temp[df_temp.l==6]\n",
    "\n",
    "Corr=corr(df1=df1,df2=df2,df3=df3,df4=df4,c=dict_global[str(s)]['c'],s=s,Lt=data_dict[str(s)]['Lt'])\n"
   ]
  },
  {
   "cell_type": "markdown",
   "id": "1ddb6a74-d838-41f3-864d-850dee53c1bf",
   "metadata": {},
   "source": [
    "### Interactive Fit"
   ]
  },
  {
   "cell_type": "code",
   "execution_count": 10,
   "id": "816e7c1c-576f-4925-b088-da4ebce90649",
   "metadata": {
    "tags": []
   },
   "outputs": [
    {
     "data": {
      "application/vnd.jupyter.widget-view+json": {
       "model_id": "07f06f60623b48079f605cf76b1c207c",
       "version_major": 2,
       "version_minor": 0
      },
      "text/plain": [
       "Output()"
      ]
     },
     "metadata": {},
     "output_type": "display_data"
    },
    {
     "data": {
      "application/vnd.jupyter.widget-view+json": {
       "model_id": "ad7c20860ca9486d8c4ec17598625e50",
       "version_major": 2,
       "version_minor": 0
      },
      "text/plain": [
       "HBox(children=(VBox(children=(IntRangeSlider(value=(20, 128), description='trange1', max=128), IntRangeSlider(…"
      ]
     },
     "metadata": {},
     "output_type": "display_data"
    }
   ],
   "source": [
    "tmax=int(np.max(df_temp.t.values)) # Max value of t obtained from dataframe\n",
    "\n",
    "func_w=Dropdown(options=[f_multi_exp2],value=f_multi_exp2,description='fit func',disabled=False)\n",
    "tr1=IntRangeSlider(value=[20,tmax],min=0,max=tmax,step=1,description='trange1')\n",
    "tr2=IntRangeSlider(value=[20,tmax],min=0,max=tmax,step=1,description='trange2')\n",
    "tr3=IntRangeSlider(value=[20,tmax],min=0,max=tmax,step=1,description='trange3')\n",
    "tr4=IntRangeSlider(value=[20,tmax],min=0,max=tmax,step=1,description='trange4')\n",
    "pr=IntRangeSlider(value=[0,tmax],min=0,max=tmax,step=1,description='plot range')\n",
    "pr_w=widgets.Checkbox(value=False,description='use_prior',indent=False,disabled=False)\n",
    "plt_w=Checkbox(value=True,description='plot',indent=False,disabled=False)\n",
    "numexp_w=IntSlider(value=2,min=1,max=8,step=1,description='num_exp')\n",
    "verbose_w=IntSlider(value=1,min=-1,max=2,step=1,description='verbose_w')\n",
    "\n",
    "# (self,f_make_pars,func,fit_range,plt_range,num_exp=3,verbose=0,use_prior=False,plot=True)\n",
    "\n",
    "v1=VBox([tr1,tr2])\n",
    "v2=VBox([tr3,tr4])\n",
    "v3=VBox([numexp_w,verbose_w])\n",
    "v4=VBox([pr_w,plt_w])\n",
    "v5=VBox([pr,func_w])\n",
    "\n",
    "ui=HBox(children=[v1,v2,v3,v4,v5])\n",
    "        \n",
    "out=interactive_output(Corr.f_perform_fit_exp, {'f_make_pars':fixed(f_make_pars),\n",
    "         'func':func_w,'fit_range1':tr1,'fit_range2':tr2,'fit_range3':tr3,'fit_range4':tr4, 'plt_range':pr,'num_exp':numexp_w, \n",
    "         'verbose':verbose_w,'use_prior':pr_w,'plot':plt_w})\n",
    "\n",
    "display(out,ui)"
   ]
  },
  {
   "cell_type": "code",
   "execution_count": null,
   "id": "d6cb3972-9351-4457-85d3-bac63d17d369",
   "metadata": {},
   "outputs": [],
   "source": []
  }
 ],
 "metadata": {
  "kernelspec": {
   "display_name": "v3",
   "language": "python",
   "name": "vpy39"
  },
  "language_info": {
   "codemirror_mode": {
    "name": "ipython",
    "version": 3
   },
   "file_extension": ".py",
   "mimetype": "text/x-python",
   "name": "python",
   "nbconvert_exporter": "python",
   "pygments_lexer": "ipython3",
   "version": "3.9.7"
  },
  "toc-autonumbering": false,
  "toc-showmarkdowntxt": false
 },
 "nbformat": 4,
 "nbformat_minor": 5
}
